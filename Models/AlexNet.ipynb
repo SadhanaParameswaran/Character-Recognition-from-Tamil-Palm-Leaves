{
 "cells": [
  {
   "attachments": {},
   "cell_type": "markdown",
   "metadata": {},
   "source": [
    "Importing"
   ]
  },
  {
   "cell_type": "code",
   "execution_count": 1,
   "metadata": {},
   "outputs": [],
   "source": [
    "import pandas as pd\n",
    "import numpy as np\n",
    "import os\n",
    "import tensorflow as tf\n",
    "import cv2\n",
    "from tensorflow import keras\n",
    "from  matplotlib import pyplot as plt\n",
    "import matplotlib.image as mpimg\n",
    "from tensorflow.keras import layers, regularizers\n",
    "from sklearn.model_selection import train_test_split"
   ]
  },
  {
   "cell_type": "code",
   "execution_count": 2,
   "metadata": {},
   "outputs": [
    {
     "data": {
      "text/plain": [
       "['aii ki matra',\n",
       " 'cha',\n",
       " 'ee ki matra',\n",
       " 'ka',\n",
       " 'la',\n",
       " 'ma',\n",
       " 'ma with oo ki matra',\n",
       " 'nna',\n",
       " 'nnna',\n",
       " 'nu',\n",
       " 'nuu',\n",
       " 'oo',\n",
       " 'pa',\n",
       " 'ra',\n",
       " 't',\n",
       " 'tha',\n",
       " 'va',\n",
       " 'vee',\n",
       " 'vu',\n",
       " 'y',\n",
       " 'ya']"
      ]
     },
     "execution_count": 2,
     "metadata": {},
     "output_type": "execute_result"
    }
   ],
   "source": [
    "import warnings\n",
    "warnings.filterwarnings('ignore')\n",
    "\n",
    "MAIN_DIR = \"D:\\\\College_Semesters\\\\6th Semester\\\\C. Deep Learning for Signal & Image Processing\\\\Project_New\\\\Dataset\"\n",
    "SEED = 40\n",
    "os.listdir(MAIN_DIR)"
   ]
  },
  {
   "cell_type": "code",
   "execution_count": 3,
   "metadata": {},
   "outputs": [],
   "source": [
    "def load_images(folder):\n",
    "    imgs = []\n",
    "    target = 0\n",
    "    labels = []\n",
    "    for i in os.listdir(folder):\n",
    "        subdir = os.path.join(folder, i)\n",
    "        for j in os.listdir(subdir):\n",
    "            img_dir = os.path.join(subdir,j)\n",
    "            try:\n",
    "                img = cv2.imread(img_dir)\n",
    "                if img.shape[-1] == 1:\n",
    "                    # convert grayscale image to RGB\n",
    "                    img = cv2.cvtColor(img, cv2.COLOR_GRAY2RGB)\n",
    "                img = cv2.resize(img,(224,224))\n",
    "                imgs.append(img)\n",
    "                labels.append(target)\n",
    "            except:\n",
    "                continue\n",
    "        target += 1\n",
    "    \n",
    "    imgs = np.array(imgs)\n",
    "    labels = np.array(labels)\n",
    "\n",
    "    return imgs, labels"
   ]
  },
  {
   "cell_type": "code",
   "execution_count": 4,
   "metadata": {},
   "outputs": [],
   "source": [
    "data, labels = load_images(MAIN_DIR)"
   ]
  },
  {
   "cell_type": "code",
   "execution_count": 5,
   "metadata": {},
   "outputs": [
    {
     "data": {
      "text/plain": [
       "((2698, 224, 224, 3),\n",
       " array([[[0.19607843, 0.36862745, 0.52941176],\n",
       "         [0.19607843, 0.36862745, 0.52941176],\n",
       "         [0.19607843, 0.36862745, 0.52941176],\n",
       "         ...,\n",
       "         [0.19215686, 0.40392157, 0.50196078],\n",
       "         [0.19215686, 0.40392157, 0.50196078],\n",
       "         [0.19215686, 0.40392157, 0.50196078]],\n",
       " \n",
       "        [[0.19607843, 0.36862745, 0.52941176],\n",
       "         [0.19607843, 0.36862745, 0.52941176],\n",
       "         [0.19607843, 0.36862745, 0.52941176],\n",
       "         ...,\n",
       "         [0.19215686, 0.40392157, 0.50196078],\n",
       "         [0.19215686, 0.40392157, 0.50196078],\n",
       "         [0.19215686, 0.40392157, 0.50196078]],\n",
       " \n",
       "        [[0.19607843, 0.36862745, 0.52941176],\n",
       "         [0.19607843, 0.36862745, 0.52941176],\n",
       "         [0.19607843, 0.36862745, 0.52941176],\n",
       "         ...,\n",
       "         [0.19215686, 0.4       , 0.50588235],\n",
       "         [0.19215686, 0.40392157, 0.50196078],\n",
       "         [0.19215686, 0.40392157, 0.50196078]],\n",
       " \n",
       "        ...,\n",
       " \n",
       "        [[0.16470588, 0.36862745, 0.48627451],\n",
       "         [0.16470588, 0.36078431, 0.47843137],\n",
       "         [0.16470588, 0.34901961, 0.47058824],\n",
       "         ...,\n",
       "         [0.20392157, 0.39607843, 0.54509804],\n",
       "         [0.20392157, 0.39607843, 0.54509804],\n",
       "         [0.20392157, 0.39607843, 0.54509804]],\n",
       " \n",
       "        [[0.17254902, 0.37647059, 0.49411765],\n",
       "         [0.16862745, 0.36470588, 0.48235294],\n",
       "         [0.16470588, 0.34901961, 0.47058824],\n",
       "         ...,\n",
       "         [0.20392157, 0.39607843, 0.54509804],\n",
       "         [0.20392157, 0.39607843, 0.54509804],\n",
       "         [0.20392157, 0.39607843, 0.54509804]],\n",
       " \n",
       "        [[0.17647059, 0.38039216, 0.49803922],\n",
       "         [0.17254902, 0.36862745, 0.48627451],\n",
       "         [0.16862745, 0.35294118, 0.4745098 ],\n",
       "         ...,\n",
       "         [0.20392157, 0.39607843, 0.54509804],\n",
       "         [0.20392157, 0.39607843, 0.54509804],\n",
       "         [0.20392157, 0.39607843, 0.54509804]]]))"
      ]
     },
     "execution_count": 5,
     "metadata": {},
     "output_type": "execute_result"
    }
   ],
   "source": [
    "from sklearn.preprocessing import LabelEncoder\n",
    "from keras.utils import to_categorical\n",
    "\n",
    "encoder = LabelEncoder()\n",
    "encoder.fit(labels)\n",
    "y = encoder.transform(labels)\n",
    "\n",
    "y_one_hot = to_categorical(y, num_classes=21) # One-hot encode the target variable\n",
    "\n",
    "norm_data = data / 255. \n",
    "norm_data.shape, norm_data[0]"
   ]
  },
  {
   "cell_type": "code",
   "execution_count": 6,
   "metadata": {},
   "outputs": [
    {
     "name": "stdout",
     "output_type": "stream",
     "text": [
      "Train Data Shape: (2158, 224, 224, 3)\n",
      "Train Labels Shape: (2158,)\n",
      "Test Data Shape: (540, 224, 224, 3)\n",
      "Test Labels Shape: (540,)\n"
     ]
    }
   ],
   "source": [
    "# Split the data into training and test sets\n",
    "train_data, test_data, train_labels, test_labels = train_test_split(data, labels, test_size=0.2, random_state=42)\n",
    "\n",
    "# Print the shapes of the split datasets\n",
    "print(\"Train Data Shape:\", train_data.shape)\n",
    "print(\"Train Labels Shape:\", train_labels.shape)\n",
    "print(\"Test Data Shape:\", test_data.shape)\n",
    "print(\"Test Labels Shape:\", test_labels.shape)"
   ]
  },
  {
   "cell_type": "code",
   "execution_count": 7,
   "metadata": {},
   "outputs": [],
   "source": [
    "from tensorflow.keras.utils import to_categorical\n",
    "\n",
    "# Convert target labels to one-hot encoded format\n",
    "train_labels = to_categorical(train_labels, num_classes=21)\n",
    "test_labels = to_categorical(test_labels, num_classes=21)"
   ]
  },
  {
   "cell_type": "code",
   "execution_count": 8,
   "metadata": {},
   "outputs": [
    {
     "name": "stdout",
     "output_type": "stream",
     "text": [
      "Epoch 1/50\n",
      "68/68 [==============================] - 100s 1s/step - loss: 3.5969 - accuracy: 0.0857 - val_loss: 3.0141 - val_accuracy: 0.0963\n",
      "Epoch 2/50\n",
      "68/68 [==============================] - 94s 1s/step - loss: 3.0323 - accuracy: 0.0848 - val_loss: 3.0159 - val_accuracy: 0.0963\n",
      "Epoch 3/50\n",
      "68/68 [==============================] - 95s 1s/step - loss: 3.0310 - accuracy: 0.0848 - val_loss: 3.0204 - val_accuracy: 0.0963\n",
      "Epoch 4/50\n",
      "68/68 [==============================] - 95s 1s/step - loss: 3.0304 - accuracy: 0.0848 - val_loss: 3.0136 - val_accuracy: 0.0963\n",
      "Epoch 5/50\n",
      "68/68 [==============================] - 95s 1s/step - loss: 3.0303 - accuracy: 0.0848 - val_loss: 3.0129 - val_accuracy: 0.0963\n",
      "Epoch 6/50\n",
      "68/68 [==============================] - 95s 1s/step - loss: 3.0279 - accuracy: 0.0848 - val_loss: 3.0126 - val_accuracy: 0.0963\n",
      "Epoch 7/50\n",
      "68/68 [==============================] - 94s 1s/step - loss: 3.0284 - accuracy: 0.0848 - val_loss: 3.0130 - val_accuracy: 0.0963\n",
      "Epoch 8/50\n",
      "68/68 [==============================] - 95s 1s/step - loss: 3.0285 - accuracy: 0.0848 - val_loss: 3.0148 - val_accuracy: 0.0963\n",
      "Epoch 9/50\n",
      "68/68 [==============================] - 94s 1s/step - loss: 3.0277 - accuracy: 0.0848 - val_loss: 3.0150 - val_accuracy: 0.0963\n",
      "Epoch 10/50\n",
      "68/68 [==============================] - 90s 1s/step - loss: 3.0290 - accuracy: 0.0848 - val_loss: 3.0160 - val_accuracy: 0.0963\n",
      "Epoch 11/50\n",
      "68/68 [==============================] - 89s 1s/step - loss: 3.0273 - accuracy: 0.0848 - val_loss: 3.0129 - val_accuracy: 0.0963\n",
      "Epoch 12/50\n",
      "68/68 [==============================] - 89s 1s/step - loss: 3.0287 - accuracy: 0.0848 - val_loss: 3.0138 - val_accuracy: 0.0963\n",
      "Epoch 13/50\n",
      "68/68 [==============================] - 88s 1s/step - loss: 3.0269 - accuracy: 0.0848 - val_loss: 3.0133 - val_accuracy: 0.0963\n",
      "Epoch 14/50\n",
      "68/68 [==============================] - 87s 1s/step - loss: 3.0277 - accuracy: 0.0848 - val_loss: 3.0128 - val_accuracy: 0.0963\n",
      "Epoch 15/50\n",
      "68/68 [==============================] - 88s 1s/step - loss: 3.0271 - accuracy: 0.0848 - val_loss: 3.0131 - val_accuracy: 0.0963\n",
      "Epoch 16/50\n",
      "68/68 [==============================] - 89s 1s/step - loss: 3.0275 - accuracy: 0.0848 - val_loss: 3.0141 - val_accuracy: 0.0963\n",
      "Epoch 17/50\n",
      "68/68 [==============================] - 89s 1s/step - loss: 3.0268 - accuracy: 0.0848 - val_loss: 3.0136 - val_accuracy: 0.0963\n",
      "Epoch 18/50\n",
      "68/68 [==============================] - 90s 1s/step - loss: 3.0274 - accuracy: 0.0848 - val_loss: 3.0143 - val_accuracy: 0.0963\n",
      "Epoch 19/50\n",
      "68/68 [==============================] - 89s 1s/step - loss: 3.0274 - accuracy: 0.0848 - val_loss: 3.0130 - val_accuracy: 0.0963\n",
      "Epoch 20/50\n",
      "68/68 [==============================] - 88s 1s/step - loss: 3.0273 - accuracy: 0.0848 - val_loss: 3.0136 - val_accuracy: 0.0963\n",
      "Epoch 21/50\n",
      "68/68 [==============================] - 88s 1s/step - loss: 3.0271 - accuracy: 0.0848 - val_loss: 3.0142 - val_accuracy: 0.0963\n",
      "Epoch 22/50\n",
      "68/68 [==============================] - 88s 1s/step - loss: 3.0270 - accuracy: 0.0848 - val_loss: 3.0142 - val_accuracy: 0.0963\n",
      "Epoch 23/50\n",
      "68/68 [==============================] - 88s 1s/step - loss: 3.0272 - accuracy: 0.0848 - val_loss: 3.0142 - val_accuracy: 0.0963\n",
      "Epoch 24/50\n",
      "68/68 [==============================] - 88s 1s/step - loss: 3.0259 - accuracy: 0.0848 - val_loss: 3.0133 - val_accuracy: 0.0963\n",
      "Epoch 25/50\n",
      "68/68 [==============================] - 89s 1s/step - loss: 3.0275 - accuracy: 0.0848 - val_loss: 3.0140 - val_accuracy: 0.0963\n",
      "Epoch 26/50\n",
      "68/68 [==============================] - 88s 1s/step - loss: 3.0259 - accuracy: 0.0848 - val_loss: 3.0133 - val_accuracy: 0.0963\n",
      "Epoch 27/50\n",
      "68/68 [==============================] - 88s 1s/step - loss: 3.0264 - accuracy: 0.0848 - val_loss: 3.0130 - val_accuracy: 0.0963\n",
      "Epoch 28/50\n",
      "68/68 [==============================] - 88s 1s/step - loss: 3.0263 - accuracy: 0.0848 - val_loss: 3.0137 - val_accuracy: 0.0963\n",
      "Epoch 29/50\n",
      "68/68 [==============================] - 88s 1s/step - loss: 3.0270 - accuracy: 0.0848 - val_loss: 3.0138 - val_accuracy: 0.0963\n",
      "Epoch 30/50\n",
      "68/68 [==============================] - 88s 1s/step - loss: 3.0267 - accuracy: 0.0848 - val_loss: 3.0128 - val_accuracy: 0.0963\n",
      "Epoch 31/50\n",
      "68/68 [==============================] - 89s 1s/step - loss: 3.0262 - accuracy: 0.0848 - val_loss: 3.0129 - val_accuracy: 0.0963\n",
      "Epoch 32/50\n",
      "68/68 [==============================] - 88s 1s/step - loss: 3.0261 - accuracy: 0.0848 - val_loss: 3.0131 - val_accuracy: 0.0963\n",
      "Epoch 33/50\n",
      "68/68 [==============================] - 88s 1s/step - loss: 3.0263 - accuracy: 0.0848 - val_loss: 3.0127 - val_accuracy: 0.0963\n",
      "Epoch 34/50\n",
      "68/68 [==============================] - 69s 1s/step - loss: 3.0268 - accuracy: 0.0848 - val_loss: 3.0126 - val_accuracy: 0.0963\n",
      "Epoch 35/50\n",
      "68/68 [==============================] - 88s 1s/step - loss: 3.0264 - accuracy: 0.0848 - val_loss: 3.0126 - val_accuracy: 0.0963\n",
      "Epoch 36/50\n",
      "68/68 [==============================] - 52s 758ms/step - loss: 3.0271 - accuracy: 0.0848 - val_loss: 3.0133 - val_accuracy: 0.0963\n",
      "Epoch 37/50\n",
      "68/68 [==============================] - 46s 672ms/step - loss: 3.0269 - accuracy: 0.0848 - val_loss: 3.0131 - val_accuracy: 0.0963\n",
      "Epoch 38/50\n",
      "68/68 [==============================] - 46s 672ms/step - loss: 3.0261 - accuracy: 0.0848 - val_loss: 3.0131 - val_accuracy: 0.0963\n",
      "Epoch 39/50\n",
      "68/68 [==============================] - 46s 670ms/step - loss: 3.0254 - accuracy: 0.0848 - val_loss: 3.0125 - val_accuracy: 0.0963\n",
      "Epoch 40/50\n",
      "68/68 [==============================] - 46s 670ms/step - loss: 3.0272 - accuracy: 0.0848 - val_loss: 3.0123 - val_accuracy: 0.0963\n",
      "Epoch 41/50\n",
      "68/68 [==============================] - 46s 670ms/step - loss: 3.0269 - accuracy: 0.0848 - val_loss: 3.0139 - val_accuracy: 0.0963\n",
      "Epoch 42/50\n",
      "68/68 [==============================] - 46s 677ms/step - loss: 3.0275 - accuracy: 0.0848 - val_loss: 3.0138 - val_accuracy: 0.0963\n",
      "Epoch 43/50\n",
      "68/68 [==============================] - 46s 671ms/step - loss: 3.0265 - accuracy: 0.0848 - val_loss: 3.0138 - val_accuracy: 0.0963\n",
      "Epoch 44/50\n",
      "68/68 [==============================] - 46s 675ms/step - loss: 3.0266 - accuracy: 0.0848 - val_loss: 3.0137 - val_accuracy: 0.0963\n",
      "Epoch 45/50\n",
      "68/68 [==============================] - 45s 669ms/step - loss: 3.0265 - accuracy: 0.0848 - val_loss: 3.0134 - val_accuracy: 0.0963\n",
      "Epoch 46/50\n",
      "68/68 [==============================] - 45s 669ms/step - loss: 3.0255 - accuracy: 0.0848 - val_loss: 3.0138 - val_accuracy: 0.0963\n",
      "Epoch 47/50\n",
      "68/68 [==============================] - 46s 672ms/step - loss: 3.0261 - accuracy: 0.0848 - val_loss: 3.0133 - val_accuracy: 0.0963\n",
      "Epoch 48/50\n",
      "68/68 [==============================] - 46s 670ms/step - loss: 3.0269 - accuracy: 0.0848 - val_loss: 3.0128 - val_accuracy: 0.0963\n",
      "Epoch 49/50\n",
      "68/68 [==============================] - 46s 670ms/step - loss: 3.0259 - accuracy: 0.0848 - val_loss: 3.0129 - val_accuracy: 0.0963\n",
      "Epoch 50/50\n",
      "68/68 [==============================] - 46s 671ms/step - loss: 3.0262 - accuracy: 0.0848 - val_loss: 3.0137 - val_accuracy: 0.0963\n"
     ]
    }
   ],
   "source": [
    "from tensorflow.keras.models import Sequential\n",
    "from tensorflow.keras.layers import Conv2D, MaxPooling2D, Flatten, Dense, Dropout\n",
    "\n",
    "# Create the AlexNet model\n",
    "model = Sequential()\n",
    "\n",
    "# Add the layers\n",
    "model.add(Conv2D(96, kernel_size=(11, 11), strides=(4, 4), activation='relu', input_shape=norm_data.shape[1:]))\n",
    "model.add(MaxPooling2D(pool_size=(3, 3), strides=(2, 2)))\n",
    "model.add(Conv2D(256, kernel_size=(5, 5), activation='relu'))\n",
    "model.add(MaxPooling2D(pool_size=(3, 3), strides=(2, 2)))\n",
    "model.add(Conv2D(384, kernel_size=(3, 3), activation='relu'))\n",
    "model.add(Conv2D(384, kernel_size=(3, 3), activation='relu'))\n",
    "model.add(Conv2D(256, kernel_size=(3, 3), activation='relu'))\n",
    "model.add(MaxPooling2D(pool_size=(3, 3), strides=(2, 2)))\n",
    "model.add(Flatten())\n",
    "model.add(Dense(4096, activation='relu'))\n",
    "model.add(Dropout(0.5))\n",
    "model.add(Dense(4096, activation='relu'))\n",
    "model.add(Dropout(0.5))\n",
    "model.add(Dense(21, activation='softmax'))\n",
    "\n",
    "# Compile the model\n",
    "model.compile(optimizer='adam',\n",
    "              loss='categorical_crossentropy',\n",
    "              metrics=['accuracy'])\n",
    "\n",
    "# Fit the model\n",
    "history = model.fit(train_data, train_labels, epochs=50, batch_size=32, validation_data=(test_data, test_labels))"
   ]
  },
  {
   "cell_type": "code",
   "execution_count": 9,
   "metadata": {},
   "outputs": [],
   "source": [
    "model.save(\"AlexNet_1.h5\")"
   ]
  },
  {
   "cell_type": "code",
   "execution_count": 10,
   "metadata": {},
   "outputs": [
    {
     "name": "stdout",
     "output_type": "stream",
     "text": [
      "17/17 [==============================] - 2s 134ms/step\n",
      "17/17 [==============================] - 2s 135ms/step - loss: 3.0137 - accuracy: 0.0963\n",
      "Test Loss: 3.0136752128601074\n",
      "Accuracy: 9.62962962962963\n"
     ]
    }
   ],
   "source": [
    "# Evaluate the model on the test data\n",
    "predictions = model.predict(test_data)\n",
    "predicted_labels = np.argmax(predictions, axis=1)\n",
    "true_labels = np.argmax(test_labels, axis=1)\n",
    "\n",
    "test_loss, test_acc = model.evaluate(test_data, test_labels)\n",
    "print('Test Loss:', test_loss)\n",
    "\n",
    "accuracy = np.mean(predicted_labels == true_labels)\n",
    "print('Accuracy:', accuracy*100)"
   ]
  },
  {
   "cell_type": "code",
   "execution_count": 11,
   "metadata": {},
   "outputs": [
    {
     "name": "stdout",
     "output_type": "stream",
     "text": [
      "17/17 [==============================] - 2s 129ms/step\n",
      "              precision    recall  f1-score   support\n",
      "\n",
      "           0       0.00      0.00      0.00        18\n",
      "           1       0.00      0.00      0.00        23\n",
      "           2       0.10      1.00      0.18        52\n",
      "           3       0.00      0.00      0.00        35\n",
      "           4       0.00      0.00      0.00        21\n",
      "           5       0.00      0.00      0.00        33\n",
      "           6       0.00      0.00      0.00        32\n",
      "           7       0.00      0.00      0.00        28\n",
      "           8       0.00      0.00      0.00        17\n",
      "           9       0.00      0.00      0.00        27\n",
      "          10       0.00      0.00      0.00        28\n",
      "          11       0.00      0.00      0.00        26\n",
      "          12       0.00      0.00      0.00        17\n",
      "          13       0.00      0.00      0.00        20\n",
      "          14       0.00      0.00      0.00        34\n",
      "          15       0.00      0.00      0.00        15\n",
      "          16       0.00      0.00      0.00        30\n",
      "          17       0.00      0.00      0.00        18\n",
      "          18       0.00      0.00      0.00        18\n",
      "          19       0.00      0.00      0.00        26\n",
      "          20       0.00      0.00      0.00        22\n",
      "\n",
      "    accuracy                           0.10       540\n",
      "   macro avg       0.00      0.05      0.01       540\n",
      "weighted avg       0.01      0.10      0.02       540\n",
      "\n"
     ]
    }
   ],
   "source": [
    "from sklearn.metrics import classification_report\n",
    "\n",
    "# Make predictions on the test data\n",
    "predictions = model.predict(test_data)\n",
    "predicted_labels = np.argmax(predictions, axis=1)\n",
    "true_labels = np.argmax(test_labels, axis=1)\n",
    "\n",
    "# Print the classification report\n",
    "print(classification_report(true_labels, predicted_labels))"
   ]
  },
  {
   "cell_type": "code",
   "execution_count": 12,
   "metadata": {},
   "outputs": [
    {
     "name": "stdout",
     "output_type": "stream",
     "text": [
      "Model: \"sequential\"\n",
      "_________________________________________________________________\n",
      " Layer (type)                Output Shape              Param #   \n",
      "=================================================================\n",
      " conv2d (Conv2D)             (None, 54, 54, 96)        34944     \n",
      "                                                                 \n",
      " max_pooling2d (MaxPooling2D  (None, 26, 26, 96)       0         \n",
      " )                                                               \n",
      "                                                                 \n",
      " conv2d_1 (Conv2D)           (None, 22, 22, 256)       614656    \n",
      "                                                                 \n",
      " max_pooling2d_1 (MaxPooling  (None, 10, 10, 256)      0         \n",
      " 2D)                                                             \n",
      "                                                                 \n",
      " conv2d_2 (Conv2D)           (None, 8, 8, 384)         885120    \n",
      "                                                                 \n",
      " conv2d_3 (Conv2D)           (None, 6, 6, 384)         1327488   \n",
      "                                                                 \n",
      " conv2d_4 (Conv2D)           (None, 4, 4, 256)         884992    \n",
      "                                                                 \n",
      " max_pooling2d_2 (MaxPooling  (None, 1, 1, 256)        0         \n",
      " 2D)                                                             \n",
      "                                                                 \n",
      " flatten (Flatten)           (None, 256)               0         \n",
      "                                                                 \n",
      " dense (Dense)               (None, 4096)              1052672   \n",
      "                                                                 \n",
      " dropout (Dropout)           (None, 4096)              0         \n",
      "                                                                 \n",
      " dense_1 (Dense)             (None, 4096)              16781312  \n",
      "                                                                 \n",
      " dropout_1 (Dropout)         (None, 4096)              0         \n",
      "                                                                 \n",
      " dense_2 (Dense)             (None, 21)                86037     \n",
      "                                                                 \n",
      "=================================================================\n",
      "Total params: 21,667,221\n",
      "Trainable params: 21,667,221\n",
      "Non-trainable params: 0\n",
      "_________________________________________________________________\n"
     ]
    }
   ],
   "source": [
    "model.summary()"
   ]
  },
  {
   "cell_type": "code",
   "execution_count": 13,
   "metadata": {},
   "outputs": [
    {
     "data": {
      "image/png": "[encoded data removed]",
      "text/plain": [
       "<Figure size 640x480 with 1 Axes>"
      ]
     },
     "metadata": {},
     "output_type": "display_data"
    },
    {
     "data": {
      "image/png": "[encoded data removed]",
      "text/plain": [
       "<Figure size 640x480 with 1 Axes>"
      ]
     },
     "metadata": {},
     "output_type": "display_data"
    }
   ],
   "source": [
    "# Plot training and validation accuracy\n",
    "plt.plot(history.history['accuracy'], label='Training Accuracy')\n",
    "plt.plot(history.history['val_accuracy'], label='Validation Accuracy')\n",
    "plt.title('Training and Validation Accuracy')\n",
    "plt.xlabel('Epochs')\n",
    "plt.ylabel('Accuracy')\n",
    "plt.legend()\n",
    "plt.show()\n",
    "\n",
    "# Plot training and validation loss\n",
    "plt.plot(history.history['loss'], label='Training Loss')\n",
    "plt.plot(history.history['val_loss'], label='Validation Loss')\n",
    "plt.title('Training and Validation Loss')\n",
    "plt.xlabel('Epochs')\n",
    "plt.ylabel('Loss')\n",
    "plt.legend()\n",
    "plt.show()"
   ]
  }
 ],
 "metadata": {
  "kernelspec": {
   "display_name": "base",
   "language": "python",
   "name": "python3"
  },
  "language_info": {
   "codemirror_mode": {
    "name": "ipython",
    "version": 3
   },
   "file_extension": ".py",
   "mimetype": "text/x-python",
   "name": "python",
   "nbconvert_exporter": "python",
   "pygments_lexer": "ipython3",
   "version": "3.9.13"
  },
  "orig_nbformat": 4
 },
 "nbformat": 4,
 "nbformat_minor": 2
}
