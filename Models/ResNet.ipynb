{
 "cells": [
  {
   "attachments": {},
   "cell_type": "markdown",
   "metadata": {},
   "source": [
    "Importing"
   ]
  },
  {
   "cell_type": "code",
   "execution_count": 4,
   "metadata": {},
   "outputs": [],
   "source": [
    "import pandas as pd\n",
    "import numpy as np\n",
    "import os\n",
    "import tensorflow as tf\n",
    "import cv2\n",
    "from tensorflow import keras\n",
    "from  matplotlib import pyplot as plt\n",
    "import matplotlib.image as mpimg\n",
    "from tensorflow.keras import layers, regularizers\n",
    "from sklearn.model_selection import train_test_split"
   ]
  },
  {
   "cell_type": "code",
   "execution_count": 5,
   "metadata": {},
   "outputs": [
    {
     "data": {
      "text/plain": [
       "['ai',\n",
       " 'cha',\n",
       " 'ee',\n",
       " 'ka',\n",
       " 'la',\n",
       " 'ma',\n",
       " 'moo',\n",
       " 'nna',\n",
       " 'nnna',\n",
       " 'nu',\n",
       " 'nuu',\n",
       " 'oo',\n",
       " 'pa',\n",
       " 'ra',\n",
       " 't',\n",
       " 'tha',\n",
       " 'va',\n",
       " 'vee',\n",
       " 'vu',\n",
       " 'y',\n",
       " 'ya']"
      ]
     },
     "execution_count": 5,
     "metadata": {},
     "output_type": "execute_result"
    }
   ],
   "source": [
    "import warnings\n",
    "warnings.filterwarnings('ignore')\n",
    "\n",
    "MAIN_DIR = \"D:\\\\College_Semesters\\\\6th Semester\\\\C. Deep Learning for Signal & Image Processing\\\\Project_New\\\\Dataset\"\n",
    "SEED = 40\n",
    "os.listdir(MAIN_DIR)"
   ]
  },
  {
   "cell_type": "code",
   "execution_count": 6,
   "metadata": {},
   "outputs": [],
   "source": [
    "def load_images(folder):\n",
    "    imgs = []\n",
    "    target = 0\n",
    "    labels = []\n",
    "    for i in os.listdir(folder):\n",
    "        subdir = os.path.join(folder, i)\n",
    "        for j in os.listdir(subdir):\n",
    "            img_dir = os.path.join(subdir,j)\n",
    "            try:\n",
    "                img = cv2.imread(img_dir)\n",
    "                if img.shape[-1] == 1:\n",
    "                    # convert grayscale image to RGB\n",
    "                    img = cv2.cvtColor(img, cv2.COLOR_GRAY2RGB)\n",
    "                img = cv2.resize(img,(224,224))\n",
    "                imgs.append(img)\n",
    "                labels.append(target)\n",
    "            except:\n",
    "                continue\n",
    "        target += 1\n",
    "    \n",
    "    imgs = np.array(imgs)\n",
    "    labels = np.array(labels)\n",
    "\n",
    "    return imgs, labels"
   ]
  },
  {
   "cell_type": "code",
   "execution_count": 7,
   "metadata": {},
   "outputs": [],
   "source": [
    "data, labels = load_images(MAIN_DIR)"
   ]
  },
  {
   "cell_type": "code",
   "execution_count": 8,
   "metadata": {},
   "outputs": [
    {
     "data": {
      "text/plain": [
       "((2698, 224, 224, 3),\n",
       " array([[[0.19607843, 0.36862745, 0.52941176],\n",
       "         [0.19607843, 0.36862745, 0.52941176],\n",
       "         [0.19607843, 0.36862745, 0.52941176],\n",
       "         ...,\n",
       "         [0.19215686, 0.40392157, 0.50196078],\n",
       "         [0.19215686, 0.40392157, 0.50196078],\n",
       "         [0.19215686, 0.40392157, 0.50196078]],\n",
       " \n",
       "        [[0.19607843, 0.36862745, 0.52941176],\n",
       "         [0.19607843, 0.36862745, 0.52941176],\n",
       "         [0.19607843, 0.36862745, 0.52941176],\n",
       "         ...,\n",
       "         [0.19215686, 0.40392157, 0.50196078],\n",
       "         [0.19215686, 0.40392157, 0.50196078],\n",
       "         [0.19215686, 0.40392157, 0.50196078]],\n",
       " \n",
       "        [[0.19607843, 0.36862745, 0.52941176],\n",
       "         [0.19607843, 0.36862745, 0.52941176],\n",
       "         [0.19607843, 0.36862745, 0.52941176],\n",
       "         ...,\n",
       "         [0.19215686, 0.4       , 0.50588235],\n",
       "         [0.19215686, 0.40392157, 0.50196078],\n",
       "         [0.19215686, 0.40392157, 0.50196078]],\n",
       " \n",
       "        ...,\n",
       " \n",
       "        [[0.16470588, 0.36862745, 0.48627451],\n",
       "         [0.16470588, 0.36078431, 0.47843137],\n",
       "         [0.16470588, 0.34901961, 0.47058824],\n",
       "         ...,\n",
       "         [0.20392157, 0.39607843, 0.54509804],\n",
       "         [0.20392157, 0.39607843, 0.54509804],\n",
       "         [0.20392157, 0.39607843, 0.54509804]],\n",
       " \n",
       "        [[0.17254902, 0.37647059, 0.49411765],\n",
       "         [0.16862745, 0.36470588, 0.48235294],\n",
       "         [0.16470588, 0.34901961, 0.47058824],\n",
       "         ...,\n",
       "         [0.20392157, 0.39607843, 0.54509804],\n",
       "         [0.20392157, 0.39607843, 0.54509804],\n",
       "         [0.20392157, 0.39607843, 0.54509804]],\n",
       " \n",
       "        [[0.17647059, 0.38039216, 0.49803922],\n",
       "         [0.17254902, 0.36862745, 0.48627451],\n",
       "         [0.16862745, 0.35294118, 0.4745098 ],\n",
       "         ...,\n",
       "         [0.20392157, 0.39607843, 0.54509804],\n",
       "         [0.20392157, 0.39607843, 0.54509804],\n",
       "         [0.20392157, 0.39607843, 0.54509804]]]))"
      ]
     },
     "execution_count": 8,
     "metadata": {},
     "output_type": "execute_result"
    }
   ],
   "source": [
    "from sklearn.preprocessing import LabelEncoder\n",
    "from keras.utils import to_categorical\n",
    "\n",
    "encoder = LabelEncoder()\n",
    "encoder.fit(labels)\n",
    "y = encoder.transform(labels)\n",
    "\n",
    "y_one_hot = to_categorical(y, num_classes=21) # One-hot encode the target variable\n",
    "\n",
    "norm_data = data / 255. \n",
    "norm_data.shape, norm_data[0]"
   ]
  },
  {
   "cell_type": "code",
   "execution_count": 9,
   "metadata": {},
   "outputs": [
    {
     "name": "stdout",
     "output_type": "stream",
     "text": [
      "Train Data Shape: (2158, 224, 224, 3)\n",
      "Train Labels Shape: (2158,)\n",
      "Test Data Shape: (540, 224, 224, 3)\n",
      "Test Labels Shape: (540,)\n"
     ]
    }
   ],
   "source": [
    "# Split the data into training and test sets\n",
    "train_data, test_data, train_labels, test_labels = train_test_split(data, labels, test_size=0.2, random_state=42)\n",
    "\n",
    "# Print the shapes of the split datasets\n",
    "print(\"Train Data Shape:\", train_data.shape)\n",
    "print(\"Train Labels Shape:\", train_labels.shape)\n",
    "print(\"Test Data Shape:\", test_data.shape)\n",
    "print(\"Test Labels Shape:\", test_labels.shape)"
   ]
  },
  {
   "cell_type": "code",
   "execution_count": 10,
   "metadata": {},
   "outputs": [],
   "source": [
    "from tensorflow.keras.utils import to_categorical\n",
    "\n",
    "# Convert target labels to one-hot encoded format\n",
    "train_labels = to_categorical(train_labels, num_classes=21)\n",
    "test_labels = to_categorical(test_labels, num_classes=21)"
   ]
  },
  {
   "cell_type": "code",
   "execution_count": 11,
   "metadata": {},
   "outputs": [
    {
     "name": "stdout",
     "output_type": "stream",
     "text": [
      "Epoch 1/50\n",
      "68/68 [==============================] - 430s 6s/step - loss: 3.4900 - accuracy: 0.8193 - val_loss: 0.8789 - val_accuracy: 0.9407\n",
      "Epoch 2/50\n",
      "68/68 [==============================] - 241s 4s/step - loss: 0.3600 - accuracy: 0.9801 - val_loss: 0.8852 - val_accuracy: 0.9500\n",
      "Epoch 3/50\n",
      "68/68 [==============================] - 244s 4s/step - loss: 0.3865 - accuracy: 0.9824 - val_loss: 1.8434 - val_accuracy: 0.9204\n",
      "Epoch 4/50\n",
      "68/68 [==============================] - 236s 3s/step - loss: 0.4184 - accuracy: 0.9815 - val_loss: 1.1858 - val_accuracy: 0.9519\n",
      "Epoch 5/50\n",
      "68/68 [==============================] - 214s 3s/step - loss: 0.2577 - accuracy: 0.9912 - val_loss: 1.1159 - val_accuracy: 0.9556\n",
      "Epoch 6/50\n",
      "68/68 [==============================] - 210s 3s/step - loss: 0.2629 - accuracy: 0.9917 - val_loss: 2.0072 - val_accuracy: 0.9333\n",
      "Epoch 7/50\n",
      "68/68 [==============================] - 207s 3s/step - loss: 0.2509 - accuracy: 0.9921 - val_loss: 1.3477 - val_accuracy: 0.9519\n",
      "Epoch 8/50\n",
      "68/68 [==============================] - 205s 3s/step - loss: 0.2357 - accuracy: 0.9935 - val_loss: 1.1574 - val_accuracy: 0.9667\n",
      "Epoch 9/50\n",
      "68/68 [==============================] - 206s 3s/step - loss: 0.2433 - accuracy: 0.9954 - val_loss: 0.9988 - val_accuracy: 0.9722\n",
      "Epoch 10/50\n",
      "68/68 [==============================] - 205s 3s/step - loss: 0.1824 - accuracy: 0.9977 - val_loss: 1.1751 - val_accuracy: 0.9574\n",
      "Epoch 11/50\n",
      "68/68 [==============================] - 205s 3s/step - loss: 0.3302 - accuracy: 0.9884 - val_loss: 1.5656 - val_accuracy: 0.9574\n",
      "Epoch 12/50\n",
      "68/68 [==============================] - 205s 3s/step - loss: 0.2872 - accuracy: 0.9926 - val_loss: 1.7184 - val_accuracy: 0.9500\n",
      "Epoch 13/50\n",
      "68/68 [==============================] - 205s 3s/step - loss: 0.4047 - accuracy: 0.9889 - val_loss: 1.8043 - val_accuracy: 0.9537\n",
      "Epoch 14/50\n",
      "68/68 [==============================] - 204s 3s/step - loss: 0.5461 - accuracy: 0.9875 - val_loss: 3.1463 - val_accuracy: 0.9185\n",
      "Epoch 15/50\n",
      "68/68 [==============================] - 204s 3s/step - loss: 0.6262 - accuracy: 0.9805 - val_loss: 2.7884 - val_accuracy: 0.9481\n",
      "Epoch 16/50\n",
      "68/68 [==============================] - 204s 3s/step - loss: 0.6999 - accuracy: 0.9856 - val_loss: 4.0737 - val_accuracy: 0.9352\n",
      "Epoch 17/50\n",
      "68/68 [==============================] - 204s 3s/step - loss: 0.7011 - accuracy: 0.9907 - val_loss: 2.7217 - val_accuracy: 0.9500\n",
      "Epoch 18/50\n",
      "68/68 [==============================] - 203s 3s/step - loss: 0.6139 - accuracy: 0.9884 - val_loss: 2.9352 - val_accuracy: 0.9519\n",
      "Epoch 19/50\n",
      "68/68 [==============================] - 204s 3s/step - loss: 0.5794 - accuracy: 0.9921 - val_loss: 2.0499 - val_accuracy: 0.9722\n",
      "Epoch 20/50\n",
      "68/68 [==============================] - 204s 3s/step - loss: 0.5450 - accuracy: 0.9954 - val_loss: 2.5185 - val_accuracy: 0.9519\n",
      "Epoch 21/50\n",
      "68/68 [==============================] - 205s 3s/step - loss: 0.4968 - accuracy: 0.9972 - val_loss: 2.0702 - val_accuracy: 0.9667\n",
      "Epoch 22/50\n",
      "68/68 [==============================] - 204s 3s/step - loss: 0.4308 - accuracy: 0.9991 - val_loss: 2.1364 - val_accuracy: 0.9648\n",
      "Epoch 23/50\n",
      "68/68 [==============================] - 204s 3s/step - loss: 0.3956 - accuracy: 1.0000 - val_loss: 2.1885 - val_accuracy: 0.9630\n",
      "Epoch 24/50\n",
      "68/68 [==============================] - 204s 3s/step - loss: 0.3698 - accuracy: 1.0000 - val_loss: 2.1386 - val_accuracy: 0.9630\n",
      "Epoch 25/50\n",
      "68/68 [==============================] - 204s 3s/step - loss: 0.3462 - accuracy: 1.0000 - val_loss: 2.0913 - val_accuracy: 0.9630\n",
      "Epoch 26/50\n",
      "68/68 [==============================] - 205s 3s/step - loss: 0.3246 - accuracy: 1.0000 - val_loss: 2.0464 - val_accuracy: 0.9630\n",
      "Epoch 27/50\n",
      "68/68 [==============================] - 204s 3s/step - loss: 0.3047 - accuracy: 1.0000 - val_loss: 2.0037 - val_accuracy: 0.9667\n",
      "Epoch 28/50\n",
      "68/68 [==============================] - 205s 3s/step - loss: 0.2861 - accuracy: 1.0000 - val_loss: 1.9625 - val_accuracy: 0.9667\n",
      "Epoch 29/50\n",
      "68/68 [==============================] - 205s 3s/step - loss: 0.2689 - accuracy: 1.0000 - val_loss: 1.9227 - val_accuracy: 0.9667\n",
      "Epoch 30/50\n",
      "68/68 [==============================] - 203s 3s/step - loss: 0.2527 - accuracy: 1.0000 - val_loss: 1.8783 - val_accuracy: 0.9667\n",
      "Epoch 31/50\n",
      "68/68 [==============================] - 203s 3s/step - loss: 0.2376 - accuracy: 1.0000 - val_loss: 1.8422 - val_accuracy: 0.9648\n",
      "Epoch 32/50\n",
      "68/68 [==============================] - 204s 3s/step - loss: 0.2234 - accuracy: 1.0000 - val_loss: 1.8068 - val_accuracy: 0.9648\n",
      "Epoch 33/50\n",
      "68/68 [==============================] - 205s 3s/step - loss: 0.2101 - accuracy: 1.0000 - val_loss: 1.7698 - val_accuracy: 0.9648\n",
      "Epoch 34/50\n",
      "68/68 [==============================] - 204s 3s/step - loss: 0.1976 - accuracy: 1.0000 - val_loss: 1.7332 - val_accuracy: 0.9630\n",
      "Epoch 35/50\n",
      "68/68 [==============================] - 203s 3s/step - loss: 0.1859 - accuracy: 1.0000 - val_loss: 1.6922 - val_accuracy: 0.9630\n",
      "Epoch 36/50\n",
      "68/68 [==============================] - 204s 3s/step - loss: 0.1748 - accuracy: 1.0000 - val_loss: 1.6566 - val_accuracy: 0.9630\n",
      "Epoch 37/50\n",
      "68/68 [==============================] - 203s 3s/step - loss: 0.1643 - accuracy: 1.0000 - val_loss: 1.6236 - val_accuracy: 0.9630\n",
      "Epoch 38/50\n",
      "68/68 [==============================] - 204s 3s/step - loss: 0.1545 - accuracy: 1.0000 - val_loss: 1.5874 - val_accuracy: 0.9630\n",
      "Epoch 39/50\n",
      "68/68 [==============================] - 203s 3s/step - loss: 0.1452 - accuracy: 1.0000 - val_loss: 1.5529 - val_accuracy: 0.9630\n",
      "Epoch 40/50\n",
      "68/68 [==============================] - 203s 3s/step - loss: 0.1365 - accuracy: 1.0000 - val_loss: 1.5147 - val_accuracy: 0.9630\n",
      "Epoch 41/50\n",
      "68/68 [==============================] - 204s 3s/step - loss: 0.1282 - accuracy: 1.0000 - val_loss: 1.4791 - val_accuracy: 0.9648\n",
      "Epoch 42/50\n",
      "68/68 [==============================] - 204s 3s/step - loss: 0.1204 - accuracy: 1.0000 - val_loss: 1.4423 - val_accuracy: 0.9648\n",
      "Epoch 43/50\n",
      "68/68 [==============================] - 203s 3s/step - loss: 0.1130 - accuracy: 1.0000 - val_loss: 1.4089 - val_accuracy: 0.9648\n",
      "Epoch 44/50\n",
      "68/68 [==============================] - 204s 3s/step - loss: 0.1061 - accuracy: 1.0000 - val_loss: 1.3761 - val_accuracy: 0.9648\n",
      "Epoch 45/50\n",
      "68/68 [==============================] - 204s 3s/step - loss: 0.0995 - accuracy: 1.0000 - val_loss: 1.3411 - val_accuracy: 0.9648\n",
      "Epoch 46/50\n",
      "68/68 [==============================] - 204s 3s/step - loss: 0.0933 - accuracy: 1.0000 - val_loss: 1.3057 - val_accuracy: 0.9630\n",
      "Epoch 47/50\n",
      "68/68 [==============================] - 204s 3s/step - loss: 0.0875 - accuracy: 1.0000 - val_loss: 1.2589 - val_accuracy: 0.9630\n",
      "Epoch 48/50\n",
      "68/68 [==============================] - 204s 3s/step - loss: 0.0820 - accuracy: 1.0000 - val_loss: 1.2268 - val_accuracy: 0.9630\n",
      "Epoch 49/50\n",
      "68/68 [==============================] - 204s 3s/step - loss: 0.0768 - accuracy: 1.0000 - val_loss: 1.1936 - val_accuracy: 0.9611\n",
      "Epoch 50/50\n",
      "68/68 [==============================] - 205s 3s/step - loss: 0.0719 - accuracy: 1.0000 - val_loss: 1.1533 - val_accuracy: 0.9611\n"
     ]
    }
   ],
   "source": [
    "from tensorflow.keras.applications import ResNet50\n",
    "lambda_ = 1e-3\n",
    "model = keras.Sequential()\n",
    "core = ResNet50(\n",
    "    include_top=False,\n",
    "    weights='imagenet',\n",
    "    input_shape=norm_data.shape[1:]\n",
    ")\n",
    "for layer in core.layers[:-2]:\n",
    "    layer.trainable = False\n",
    "model.add(core)\n",
    "model.add(keras.layers.Flatten())\n",
    "model.add(keras.layers.Dense(21, activation='softmax', kernel_regularizer=keras.regularizers.l2(lambda_)))\n",
    "\n",
    "# Compile the model\n",
    "model.compile(\n",
    "    optimizer=tf.keras.optimizers.Adam(learning_rate=0.001),\n",
    "    loss='categorical_crossentropy',\n",
    "    metrics=['accuracy']\n",
    ")\n",
    "# Fit the model\n",
    "# history = model.fit(norm_data, y_one_hot, epochs=50, validation_split=0.25)\n",
    "history = model.fit(train_data, train_labels, epochs=50, batch_size=32, validation_data=(test_data, test_labels))"
   ]
  },
  {
   "cell_type": "code",
   "execution_count": 12,
   "metadata": {},
   "outputs": [],
   "source": [
    "model.save(\"ResNet_3.h5\")"
   ]
  },
  {
   "cell_type": "code",
   "execution_count": 13,
   "metadata": {},
   "outputs": [],
   "source": [
    "import tensorflow as tf\n",
    "from tensorflow import keras\n",
    "from tensorflow.keras import layers"
   ]
  },
  {
   "cell_type": "code",
   "execution_count": 14,
   "metadata": {},
   "outputs": [],
   "source": [
    "tf.keras.models.save_model(model,'ResNet3.hdf5')"
   ]
  },
  {
   "cell_type": "code",
   "execution_count": 15,
   "metadata": {},
   "outputs": [
    {
     "name": "stdout",
     "output_type": "stream",
     "text": [
      "17/17 [==============================] - 52s 2s/step\n",
      "17/17 [==============================] - 41s 2s/step - loss: 1.1533 - accuracy: 0.9611\n",
      "Test Loss: 1.153255820274353\n",
      "Accuracy: 96.11111111111111\n"
     ]
    }
   ],
   "source": [
    "# Evaluate the model on the test data\n",
    "predictions = model.predict(test_data)\n",
    "predicted_labels = np.argmax(predictions, axis=1)\n",
    "true_labels = np.argmax(test_labels, axis=1)\n",
    "\n",
    "test_loss, test_acc = model.evaluate(test_data, test_labels)\n",
    "print('Test Loss:', test_loss)\n",
    "\n",
    "accuracy = np.mean(predicted_labels == true_labels)\n",
    "print('Accuracy:', accuracy*100)"
   ]
  },
  {
   "cell_type": "code",
   "execution_count": 16,
   "metadata": {},
   "outputs": [
    {
     "name": "stdout",
     "output_type": "stream",
     "text": [
      "17/17 [==============================] - 40s 2s/step\n",
      "              precision    recall  f1-score   support\n",
      "\n",
      "           0       1.00      0.94      0.97        18\n",
      "           1       1.00      0.87      0.93        23\n",
      "           2       1.00      0.92      0.96        52\n",
      "           3       0.85      1.00      0.92        35\n",
      "           4       0.91      1.00      0.95        21\n",
      "           5       1.00      1.00      1.00        33\n",
      "           6       0.97      0.97      0.97        32\n",
      "           7       0.96      0.82      0.88        28\n",
      "           8       0.94      0.94      0.94        17\n",
      "           9       0.93      1.00      0.96        27\n",
      "          10       1.00      1.00      1.00        28\n",
      "          11       1.00      1.00      1.00        26\n",
      "          12       0.94      1.00      0.97        17\n",
      "          13       0.95      1.00      0.98        20\n",
      "          14       0.87      1.00      0.93        34\n",
      "          15       1.00      0.87      0.93        15\n",
      "          16       1.00      0.93      0.97        30\n",
      "          17       1.00      1.00      1.00        18\n",
      "          18       1.00      0.94      0.97        18\n",
      "          19       0.96      1.00      0.98        26\n",
      "          20       1.00      0.95      0.98        22\n",
      "\n",
      "    accuracy                           0.96       540\n",
      "   macro avg       0.97      0.96      0.96       540\n",
      "weighted avg       0.96      0.96      0.96       540\n",
      "\n"
     ]
    }
   ],
   "source": [
    "from sklearn.metrics import classification_report\n",
    "\n",
    "# Make predictions on the test data\n",
    "predictions = model.predict(test_data)\n",
    "predicted_labels = np.argmax(predictions, axis=1)\n",
    "true_labels = np.argmax(test_labels, axis=1)\n",
    "\n",
    "# Print the classification report\n",
    "print(classification_report(true_labels, predicted_labels))"
   ]
  },
  {
   "cell_type": "code",
   "execution_count": 17,
   "metadata": {},
   "outputs": [
    {
     "name": "stdout",
     "output_type": "stream",
     "text": [
      "Model: \"sequential\"\n",
      "_________________________________________________________________\n",
      " Layer (type)                Output Shape              Param #   \n",
      "=================================================================\n",
      " resnet50 (Functional)       (None, 7, 7, 2048)        23587712  \n",
      "                                                                 \n",
      " flatten (Flatten)           (None, 100352)            0         \n",
      "                                                                 \n",
      " dense (Dense)               (None, 21)                2107413   \n",
      "                                                                 \n",
      "=================================================================\n",
      "Total params: 25,695,125\n",
      "Trainable params: 2,107,413\n",
      "Non-trainable params: 23,587,712\n",
      "_________________________________________________________________\n"
     ]
    }
   ],
   "source": [
    "model.summary()"
   ]
  },
  {
   "cell_type": "code",
   "execution_count": 18,
   "metadata": {},
   "outputs": [
    {
     "data": {
      "image/png": "[encoded data removed]",
      "text/plain": [
       "<Figure size 640x480 with 1 Axes>"
      ]
     },
     "metadata": {},
     "output_type": "display_data"
    },
    {
     "data": {
      "image/png": "[encoded data removed]",
      "text/plain": [
       "<Figure size 640x480 with 1 Axes>"
      ]
     },
     "metadata": {},
     "output_type": "display_data"
    }
   ],
   "source": [
    "# Plot training and validation accuracy\n",
    "plt.plot(history.history['accuracy'], label='Training Accuracy')\n",
    "plt.plot(history.history['val_accuracy'], label='Validation Accuracy')\n",
    "plt.title('Training and Validation Accuracy')\n",
    "plt.xlabel('Epochs')\n",
    "plt.ylabel('Accuracy')\n",
    "plt.legend()\n",
    "plt.show()\n",
    "\n",
    "# Plot training and validation loss\n",
    "plt.plot(history.history['loss'], label='Training Loss')\n",
    "plt.plot(history.history['val_loss'], label='Validation Loss')\n",
    "plt.title('Training and Validation Loss')\n",
    "plt.xlabel('Epochs')\n",
    "plt.ylabel('Loss')\n",
    "plt.legend()\n",
    "plt.show()"
   ]
  }
 ],
 "metadata": {
  "kernelspec": {
   "display_name": "base",
   "language": "python",
   "name": "python3"
  },
  "language_info": {
   "codemirror_mode": {
    "name": "ipython",
    "version": 3
   },
   "file_extension": ".py",
   "mimetype": "text/x-python",
   "name": "python",
   "nbconvert_exporter": "python",
   "pygments_lexer": "ipython3",
   "version": "3.9.13"
  },
  "orig_nbformat": 4
 },
 "nbformat": 4,
 "nbformat_minor": 2
}
