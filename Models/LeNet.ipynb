{
 "cells": [
  {
   "cell_type": "code",
   "execution_count": 3,
   "metadata": {},
   "outputs": [
    {
     "name": "stdout",
     "output_type": "stream",
     "text": [
      "Requirement already satisfied: numpy in c:\\users\\psadh\\anaconda3\\lib\\site-packages (1.24.3)\n",
      "Note: you may need to restart the kernel to use updated packages.\n"
     ]
    }
   ],
   "source": [
    "pip install --upgrade numpy"
   ]
  },
  {
   "attachments": {},
   "cell_type": "markdown",
   "metadata": {},
   "source": [
    "Importing"
   ]
  },
  {
   "cell_type": "code",
   "execution_count": 1,
   "metadata": {},
   "outputs": [],
   "source": [
    "import pandas as pd\n",
    "import numpy as np\n",
    "import os\n",
    "import tensorflow as tf\n",
    "import cv2\n",
    "from tensorflow import keras\n",
    "from  matplotlib import pyplot as plt\n",
    "import matplotlib.image as mpimg\n",
    "from tensorflow.keras import layers, regularizers\n",
    "from sklearn.model_selection import train_test_split"
   ]
  },
  {
   "cell_type": "code",
   "execution_count": 2,
   "metadata": {},
   "outputs": [
    {
     "data": {
      "text/plain": [
       "['aii ki matra',\n",
       " 'cha',\n",
       " 'ee ki matra',\n",
       " 'ka',\n",
       " 'la',\n",
       " 'ma',\n",
       " 'ma with oo ki matra',\n",
       " 'nna',\n",
       " 'nnna',\n",
       " 'nu',\n",
       " 'nuu',\n",
       " 'oo',\n",
       " 'pa',\n",
       " 'ra',\n",
       " 't',\n",
       " 'tha',\n",
       " 'va',\n",
       " 'vee',\n",
       " 'vu',\n",
       " 'y',\n",
       " 'ya']"
      ]
     },
     "execution_count": 2,
     "metadata": {},
     "output_type": "execute_result"
    }
   ],
   "source": [
    "import warnings\n",
    "warnings.filterwarnings('ignore')\n",
    "\n",
    "MAIN_DIR = \"D:\\\\College_Semesters\\\\6th Semester\\\\C. Deep Learning for Signal & Image Processing\\\\Project_New\\\\Dataset\"\n",
    "SEED = 40\n",
    "os.listdir(MAIN_DIR)"
   ]
  },
  {
   "cell_type": "code",
   "execution_count": 3,
   "metadata": {},
   "outputs": [],
   "source": [
    "def load_images(folder):\n",
    "    imgs = []\n",
    "    target = 0\n",
    "    labels = []\n",
    "    for i in os.listdir(folder):\n",
    "        subdir = os.path.join(folder, i)\n",
    "        for j in os.listdir(subdir):\n",
    "            img_dir = os.path.join(subdir,j)\n",
    "            try:\n",
    "                img = cv2.imread(img_dir)\n",
    "                if img.shape[-1] == 1:\n",
    "                    # convert grayscale image to RGB\n",
    "                    img = cv2.cvtColor(img, cv2.COLOR_GRAY2RGB)\n",
    "                img = cv2.resize(img,(224,224))\n",
    "                imgs.append(img)\n",
    "                labels.append(target)\n",
    "            except:\n",
    "                continue\n",
    "        target += 1\n",
    "    \n",
    "    imgs = np.array(imgs)\n",
    "    labels = np.array(labels)\n",
    "\n",
    "    return imgs, labels"
   ]
  },
  {
   "cell_type": "code",
   "execution_count": 4,
   "metadata": {},
   "outputs": [],
   "source": [
    "data, labels = load_images(MAIN_DIR)"
   ]
  },
  {
   "cell_type": "code",
   "execution_count": 5,
   "metadata": {},
   "outputs": [
    {
     "data": {
      "text/plain": [
       "((2698, 224, 224, 3),\n",
       " array([[[0.19607843, 0.36862745, 0.52941176],\n",
       "         [0.19607843, 0.36862745, 0.52941176],\n",
       "         [0.19607843, 0.36862745, 0.52941176],\n",
       "         ...,\n",
       "         [0.19215686, 0.40392157, 0.50196078],\n",
       "         [0.19215686, 0.40392157, 0.50196078],\n",
       "         [0.19215686, 0.40392157, 0.50196078]],\n",
       " \n",
       "        [[0.19607843, 0.36862745, 0.52941176],\n",
       "         [0.19607843, 0.36862745, 0.52941176],\n",
       "         [0.19607843, 0.36862745, 0.52941176],\n",
       "         ...,\n",
       "         [0.19215686, 0.40392157, 0.50196078],\n",
       "         [0.19215686, 0.40392157, 0.50196078],\n",
       "         [0.19215686, 0.40392157, 0.50196078]],\n",
       " \n",
       "        [[0.19607843, 0.36862745, 0.52941176],\n",
       "         [0.19607843, 0.36862745, 0.52941176],\n",
       "         [0.19607843, 0.36862745, 0.52941176],\n",
       "         ...,\n",
       "         [0.19215686, 0.4       , 0.50588235],\n",
       "         [0.19215686, 0.40392157, 0.50196078],\n",
       "         [0.19215686, 0.40392157, 0.50196078]],\n",
       " \n",
       "        ...,\n",
       " \n",
       "        [[0.16470588, 0.36862745, 0.48627451],\n",
       "         [0.16470588, 0.36078431, 0.47843137],\n",
       "         [0.16470588, 0.34901961, 0.47058824],\n",
       "         ...,\n",
       "         [0.20392157, 0.39607843, 0.54509804],\n",
       "         [0.20392157, 0.39607843, 0.54509804],\n",
       "         [0.20392157, 0.39607843, 0.54509804]],\n",
       " \n",
       "        [[0.17254902, 0.37647059, 0.49411765],\n",
       "         [0.16862745, 0.36470588, 0.48235294],\n",
       "         [0.16470588, 0.34901961, 0.47058824],\n",
       "         ...,\n",
       "         [0.20392157, 0.39607843, 0.54509804],\n",
       "         [0.20392157, 0.39607843, 0.54509804],\n",
       "         [0.20392157, 0.39607843, 0.54509804]],\n",
       " \n",
       "        [[0.17647059, 0.38039216, 0.49803922],\n",
       "         [0.17254902, 0.36862745, 0.48627451],\n",
       "         [0.16862745, 0.35294118, 0.4745098 ],\n",
       "         ...,\n",
       "         [0.20392157, 0.39607843, 0.54509804],\n",
       "         [0.20392157, 0.39607843, 0.54509804],\n",
       "         [0.20392157, 0.39607843, 0.54509804]]]))"
      ]
     },
     "execution_count": 5,
     "metadata": {},
     "output_type": "execute_result"
    }
   ],
   "source": [
    "from sklearn.preprocessing import LabelEncoder\n",
    "from keras.utils import to_categorical\n",
    "\n",
    "encoder = LabelEncoder()\n",
    "encoder.fit(labels)\n",
    "y = encoder.transform(labels)\n",
    "\n",
    "y_one_hot = to_categorical(y, num_classes=21) # One-hot encode the target variable\n",
    "\n",
    "norm_data = data / 255. \n",
    "norm_data.shape, norm_data[0]"
   ]
  },
  {
   "cell_type": "code",
   "execution_count": 6,
   "metadata": {},
   "outputs": [
    {
     "name": "stdout",
     "output_type": "stream",
     "text": [
      "Train Data Shape: (2158, 224, 224, 3)\n",
      "Train Labels Shape: (2158,)\n",
      "Test Data Shape: (540, 224, 224, 3)\n",
      "Test Labels Shape: (540,)\n"
     ]
    }
   ],
   "source": [
    "# Split the data into training and test sets\n",
    "train_data, test_data, train_labels, test_labels = train_test_split(data, labels, test_size=0.2, random_state=42)\n",
    "\n",
    "# Print the shapes of the split datasets\n",
    "print(\"Train Data Shape:\", train_data.shape)\n",
    "print(\"Train Labels Shape:\", train_labels.shape)\n",
    "print(\"Test Data Shape:\", test_data.shape)\n",
    "print(\"Test Labels Shape:\", test_labels.shape)"
   ]
  },
  {
   "cell_type": "code",
   "execution_count": 7,
   "metadata": {},
   "outputs": [],
   "source": [
    "from tensorflow.keras.utils import to_categorical\n",
    "\n",
    "# Convert target labels to one-hot encoded format\n",
    "train_labels = to_categorical(train_labels, num_classes=21)\n",
    "test_labels = to_categorical(test_labels, num_classes=21)"
   ]
  },
  {
   "cell_type": "code",
   "execution_count": 10,
   "metadata": {},
   "outputs": [
    {
     "name": "stdout",
     "output_type": "stream",
     "text": [
      "Epoch 1/50\n",
      "68/68 [==============================] - 111s 2s/step - loss: 3.6766 - accuracy: 0.5533 - val_loss: 0.9149 - val_accuracy: 0.8000\n",
      "Epoch 2/50\n",
      "68/68 [==============================] - 122s 2s/step - loss: 0.5591 - accuracy: 0.8772 - val_loss: 0.8816 - val_accuracy: 0.8074\n",
      "Epoch 3/50\n",
      "68/68 [==============================] - 132s 2s/step - loss: 0.1689 - accuracy: 0.9629 - val_loss: 1.0921 - val_accuracy: 0.8426\n",
      "Epoch 4/50\n",
      "68/68 [==============================] - 63s 939ms/step - loss: 0.0623 - accuracy: 0.9829 - val_loss: 1.2513 - val_accuracy: 0.8407\n",
      "Epoch 5/50\n",
      "68/68 [==============================] - 29s 432ms/step - loss: 0.0570 - accuracy: 0.9866 - val_loss: 1.3260 - val_accuracy: 0.8463\n",
      "Epoch 6/50\n",
      "68/68 [==============================] - 29s 433ms/step - loss: 0.1063 - accuracy: 0.9768 - val_loss: 0.9637 - val_accuracy: 0.8556\n",
      "Epoch 7/50\n",
      "68/68 [==============================] - 31s 457ms/step - loss: 0.0185 - accuracy: 0.9935 - val_loss: 1.3596 - val_accuracy: 0.8593\n",
      "Epoch 8/50\n",
      "68/68 [==============================] - 35s 508ms/step - loss: 0.0496 - accuracy: 0.9898 - val_loss: 1.0748 - val_accuracy: 0.8611\n",
      "Epoch 9/50\n",
      "68/68 [==============================] - 49s 716ms/step - loss: 0.0388 - accuracy: 0.9926 - val_loss: 1.2487 - val_accuracy: 0.8685\n",
      "Epoch 10/50\n",
      "68/68 [==============================] - 31s 462ms/step - loss: 0.0440 - accuracy: 0.9921 - val_loss: 1.4684 - val_accuracy: 0.8407\n",
      "Epoch 11/50\n",
      "68/68 [==============================] - 31s 452ms/step - loss: 0.0085 - accuracy: 0.9963 - val_loss: 1.3352 - val_accuracy: 0.8630\n",
      "Epoch 12/50\n",
      "68/68 [==============================] - 81s 1s/step - loss: 0.0820 - accuracy: 0.9810 - val_loss: 1.4071 - val_accuracy: 0.8000\n",
      "Epoch 13/50\n",
      "68/68 [==============================] - 29s 432ms/step - loss: 0.1409 - accuracy: 0.9708 - val_loss: 1.3325 - val_accuracy: 0.8426\n",
      "Epoch 14/50\n",
      "68/68 [==============================] - 29s 425ms/step - loss: 0.0370 - accuracy: 0.9944 - val_loss: 1.2819 - val_accuracy: 0.8574\n",
      "Epoch 15/50\n",
      "68/68 [==============================] - 37s 545ms/step - loss: 0.0146 - accuracy: 0.9954 - val_loss: 1.6357 - val_accuracy: 0.8704\n",
      "Epoch 16/50\n",
      "68/68 [==============================] - 100s 1s/step - loss: 0.0709 - accuracy: 0.9875 - val_loss: 1.5458 - val_accuracy: 0.8481\n",
      "Epoch 17/50\n",
      "68/68 [==============================] - 124s 2s/step - loss: 0.0385 - accuracy: 0.9917 - val_loss: 1.6829 - val_accuracy: 0.8407\n",
      "Epoch 18/50\n",
      "68/68 [==============================] - 84s 1s/step - loss: 0.0389 - accuracy: 0.9921 - val_loss: 1.5500 - val_accuracy: 0.8741\n",
      "Epoch 19/50\n",
      "68/68 [==============================] - 110s 2s/step - loss: 0.0117 - accuracy: 0.9991 - val_loss: 1.5306 - val_accuracy: 0.8741\n",
      "Epoch 20/50\n",
      "68/68 [==============================] - 106s 2s/step - loss: 6.0348e-04 - accuracy: 1.0000 - val_loss: 1.5626 - val_accuracy: 0.8778\n",
      "Epoch 21/50\n",
      "68/68 [==============================] - 30s 439ms/step - loss: 1.8750e-04 - accuracy: 1.0000 - val_loss: 1.6286 - val_accuracy: 0.8759\n",
      "Epoch 22/50\n",
      "68/68 [==============================] - 31s 455ms/step - loss: 9.7294e-06 - accuracy: 1.0000 - val_loss: 1.6440 - val_accuracy: 0.8759\n",
      "Epoch 23/50\n",
      "68/68 [==============================] - 31s 456ms/step - loss: 6.2249e-06 - accuracy: 1.0000 - val_loss: 1.6465 - val_accuracy: 0.8759\n",
      "Epoch 24/50\n",
      "68/68 [==============================] - 31s 456ms/step - loss: 5.4245e-06 - accuracy: 1.0000 - val_loss: 1.6480 - val_accuracy: 0.8759\n",
      "Epoch 25/50\n",
      "68/68 [==============================] - 31s 462ms/step - loss: 4.8088e-06 - accuracy: 1.0000 - val_loss: 1.6497 - val_accuracy: 0.8759\n",
      "Epoch 26/50\n",
      "68/68 [==============================] - 31s 461ms/step - loss: 4.3471e-06 - accuracy: 1.0000 - val_loss: 1.6511 - val_accuracy: 0.8759\n",
      "Epoch 27/50\n",
      "68/68 [==============================] - 31s 458ms/step - loss: 3.9604e-06 - accuracy: 1.0000 - val_loss: 1.6524 - val_accuracy: 0.8759\n",
      "Epoch 28/50\n",
      "68/68 [==============================] - 31s 456ms/step - loss: 3.6522e-06 - accuracy: 1.0000 - val_loss: 1.6538 - val_accuracy: 0.8759\n",
      "Epoch 29/50\n",
      "68/68 [==============================] - 31s 461ms/step - loss: 3.3833e-06 - accuracy: 1.0000 - val_loss: 1.6551 - val_accuracy: 0.8759\n",
      "Epoch 30/50\n",
      "68/68 [==============================] - 31s 461ms/step - loss: 3.1596e-06 - accuracy: 1.0000 - val_loss: 1.6561 - val_accuracy: 0.8759\n",
      "Epoch 31/50\n",
      "68/68 [==============================] - 31s 462ms/step - loss: 2.9451e-06 - accuracy: 1.0000 - val_loss: 1.6571 - val_accuracy: 0.8778\n",
      "Epoch 32/50\n",
      "68/68 [==============================] - 31s 461ms/step - loss: 2.7690e-06 - accuracy: 1.0000 - val_loss: 1.6579 - val_accuracy: 0.8778\n",
      "Epoch 33/50\n",
      "68/68 [==============================] - 31s 457ms/step - loss: 2.6039e-06 - accuracy: 1.0000 - val_loss: 1.6589 - val_accuracy: 0.8778\n",
      "Epoch 34/50\n",
      "68/68 [==============================] - 31s 459ms/step - loss: 2.4622e-06 - accuracy: 1.0000 - val_loss: 1.6599 - val_accuracy: 0.8778\n",
      "Epoch 35/50\n",
      "68/68 [==============================] - 31s 456ms/step - loss: 2.3267e-06 - accuracy: 1.0000 - val_loss: 1.6607 - val_accuracy: 0.8778\n",
      "Epoch 36/50\n",
      "68/68 [==============================] - 31s 458ms/step - loss: 2.2039e-06 - accuracy: 1.0000 - val_loss: 1.6616 - val_accuracy: 0.8778\n",
      "Epoch 37/50\n",
      "68/68 [==============================] - 31s 455ms/step - loss: 2.0957e-06 - accuracy: 1.0000 - val_loss: 1.6624 - val_accuracy: 0.8778\n",
      "Epoch 38/50\n",
      "68/68 [==============================] - 31s 461ms/step - loss: 1.9953e-06 - accuracy: 1.0000 - val_loss: 1.6624 - val_accuracy: 0.8778\n",
      "Epoch 39/50\n",
      "68/68 [==============================] - 32s 470ms/step - loss: 1.8993e-06 - accuracy: 1.0000 - val_loss: 1.6640 - val_accuracy: 0.8778\n",
      "Epoch 40/50\n",
      "68/68 [==============================] - 31s 461ms/step - loss: 1.8090e-06 - accuracy: 1.0000 - val_loss: 1.6649 - val_accuracy: 0.8778\n",
      "Epoch 41/50\n",
      "68/68 [==============================] - 31s 462ms/step - loss: 1.7238e-06 - accuracy: 1.0000 - val_loss: 1.6655 - val_accuracy: 0.8778\n",
      "Epoch 42/50\n",
      "68/68 [==============================] - 32s 463ms/step - loss: 1.6491e-06 - accuracy: 1.0000 - val_loss: 1.6658 - val_accuracy: 0.8778\n",
      "Epoch 43/50\n",
      "68/68 [==============================] - 32s 465ms/step - loss: 1.5750e-06 - accuracy: 1.0000 - val_loss: 1.6668 - val_accuracy: 0.8778\n",
      "Epoch 44/50\n",
      "68/68 [==============================] - 31s 461ms/step - loss: 1.5095e-06 - accuracy: 1.0000 - val_loss: 1.6669 - val_accuracy: 0.8796\n",
      "Epoch 45/50\n",
      "68/68 [==============================] - 31s 456ms/step - loss: 1.4451e-06 - accuracy: 1.0000 - val_loss: 1.6683 - val_accuracy: 0.8796\n",
      "Epoch 46/50\n",
      "68/68 [==============================] - 31s 462ms/step - loss: 1.3872e-06 - accuracy: 1.0000 - val_loss: 1.6690 - val_accuracy: 0.8796\n",
      "Epoch 47/50\n",
      "68/68 [==============================] - 32s 469ms/step - loss: 1.3260e-06 - accuracy: 1.0000 - val_loss: 1.6695 - val_accuracy: 0.8796\n",
      "Epoch 48/50\n",
      "68/68 [==============================] - 31s 462ms/step - loss: 1.2751e-06 - accuracy: 1.0000 - val_loss: 1.6701 - val_accuracy: 0.8796\n",
      "Epoch 49/50\n",
      "68/68 [==============================] - 31s 455ms/step - loss: 1.2254e-06 - accuracy: 1.0000 - val_loss: 1.6708 - val_accuracy: 0.8796\n",
      "Epoch 50/50\n",
      "68/68 [==============================] - 31s 458ms/step - loss: 1.1799e-06 - accuracy: 1.0000 - val_loss: 1.6712 - val_accuracy: 0.8796\n"
     ]
    }
   ],
   "source": [
    "from tensorflow.keras.models import Sequential\n",
    "from tensorflow.keras.layers import Conv2D, AveragePooling2D, Flatten, Dense\n",
    "\n",
    "# Create the LeNet-5 model\n",
    "model = Sequential()\n",
    "\n",
    "# Add the layers\n",
    "model.add(Conv2D(6, kernel_size=(5, 5), activation='relu', input_shape=norm_data.shape[1:]))\n",
    "model.add(AveragePooling2D(pool_size=(2, 2)))\n",
    "model.add(Conv2D(16, kernel_size=(5, 5), activation='relu'))\n",
    "model.add(AveragePooling2D(pool_size=(2, 2)))\n",
    "model.add(Flatten())\n",
    "model.add(Dense(120, activation='relu'))\n",
    "model.add(Dense(84, activation='relu'))\n",
    "model.add(Dense(21, activation='softmax'))\n",
    "\n",
    "# Compile the model\n",
    "model.compile(optimizer='adam',\n",
    "              loss='categorical_crossentropy',\n",
    "              metrics=['accuracy'])\n",
    "\n",
    "# Fit the model\n",
    "history = model.fit(train_data, train_labels, epochs=50, batch_size=32, validation_data=(test_data, test_labels))"
   ]
  },
  {
   "cell_type": "code",
   "execution_count": 11,
   "metadata": {},
   "outputs": [],
   "source": [
    "model.save(\"LeNet_2.h5\")"
   ]
  },
  {
   "attachments": {},
   "cell_type": "markdown",
   "metadata": {},
   "source": [
    "Saved model "
   ]
  },
  {
   "cell_type": "code",
   "execution_count": 12,
   "metadata": {},
   "outputs": [],
   "source": [
    "# from tensorflow.keras.models import Sequential\n",
    "# from tensorflow.keras.layers import Conv2D, AveragePooling2D, Flatten, Dense\n",
    "\n",
    "# # Create the LeNet-5 model\n",
    "# model = Sequential()\n",
    "\n",
    "# # Add the layers\n",
    "# model.add(Conv2D(6, kernel_size=(5, 5), activation='relu', input_shape=norm_data.shape[1:]))\n",
    "# model.add(AveragePooling2D(pool_size=(2, 2)))\n",
    "# model.add(Conv2D(16, kernel_size=(5, 5), activation='relu'))\n",
    "# model.add(AveragePooling2D(pool_size=(2, 2)))\n",
    "# model.add(Flatten())\n",
    "# model.add(Dense(120, activation='relu'))\n",
    "# model.add(Dense(84, activation='relu'))\n",
    "# model.add(Dense(18, activation='softmax'))\n",
    "\n",
    "# # Compile the model\n",
    "# model.compile(optimizer='adam',\n",
    "#               loss='categorical_crossentropy',\n",
    "#               metrics=['accuracy'])"
   ]
  },
  {
   "cell_type": "code",
   "execution_count": 13,
   "metadata": {},
   "outputs": [],
   "source": [
    "# import tensorflow as tf\n",
    "\n",
    "# # Load the saved model\n",
    "# model = tf.keras.models.load_model('D:\\\\College_Semesters\\\\6th Semester\\\\C. Deep Learning for Signal & Image Processing\\\\Project_New\\\\Project\\\\LeNet_1.h5')"
   ]
  },
  {
   "cell_type": "code",
   "execution_count": 14,
   "metadata": {},
   "outputs": [
    {
     "name": "stdout",
     "output_type": "stream",
     "text": [
      "17/17 [==============================] - 2s 116ms/step\n",
      "17/17 [==============================] - 2s 118ms/step - loss: 1.6712 - accuracy: 0.8796\n",
      "Test Loss: 1.6711735725402832\n",
      "Accuracy: 87.96296296296296\n"
     ]
    }
   ],
   "source": [
    "# Evaluate the model on the test data\n",
    "predictions = model.predict(test_data)\n",
    "predicted_labels = np.argmax(predictions, axis=1)\n",
    "true_labels = np.argmax(test_labels, axis=1)\n",
    "\n",
    "test_loss, test_acc = model.evaluate(test_data, test_labels)\n",
    "print('Test Loss:', test_loss)\n",
    "\n",
    "accuracy = np.mean(predicted_labels == true_labels)\n",
    "print('Accuracy:', accuracy*100)"
   ]
  },
  {
   "cell_type": "code",
   "execution_count": 15,
   "metadata": {},
   "outputs": [
    {
     "name": "stdout",
     "output_type": "stream",
     "text": [
      "17/17 [==============================] - 2s 120ms/step\n",
      "              precision    recall  f1-score   support\n",
      "\n",
      "           0       0.89      0.94      0.92        18\n",
      "           1       0.81      0.74      0.77        23\n",
      "           2       0.90      0.85      0.87        52\n",
      "           3       0.80      0.80      0.80        35\n",
      "           4       0.86      0.86      0.86        21\n",
      "           5       0.94      0.91      0.92        33\n",
      "           6       0.94      0.91      0.92        32\n",
      "           7       0.86      0.86      0.86        28\n",
      "           8       0.68      0.88      0.77        17\n",
      "           9       0.76      0.93      0.83        27\n",
      "          10       0.96      0.93      0.95        28\n",
      "          11       0.83      0.92      0.87        26\n",
      "          12       0.76      0.94      0.84        17\n",
      "          13       0.95      0.95      0.95        20\n",
      "          14       0.97      1.00      0.99        34\n",
      "          15       1.00      0.67      0.80        15\n",
      "          16       0.90      0.90      0.90        30\n",
      "          17       0.82      0.78      0.80        18\n",
      "          18       1.00      0.94      0.97        18\n",
      "          19       1.00      0.92      0.96        26\n",
      "          20       0.89      0.77      0.83        22\n",
      "\n",
      "    accuracy                           0.88       540\n",
      "   macro avg       0.88      0.88      0.88       540\n",
      "weighted avg       0.89      0.88      0.88       540\n",
      "\n"
     ]
    }
   ],
   "source": [
    "from sklearn.metrics import classification_report\n",
    "\n",
    "# Make predictions on the test data\n",
    "predictions = model.predict(test_data)\n",
    "predicted_labels = np.argmax(predictions, axis=1)\n",
    "true_labels = np.argmax(test_labels, axis=1)\n",
    "\n",
    "# Print the classification report\n",
    "print(classification_report(true_labels, predicted_labels))"
   ]
  },
  {
   "cell_type": "code",
   "execution_count": 16,
   "metadata": {},
   "outputs": [
    {
     "name": "stdout",
     "output_type": "stream",
     "text": [
      "Model: \"sequential_2\"\n",
      "_________________________________________________________________\n",
      " Layer (type)                Output Shape              Param #   \n",
      "=================================================================\n",
      " conv2d_4 (Conv2D)           (None, 220, 220, 6)       456       \n",
      "                                                                 \n",
      " average_pooling2d_4 (Averag  (None, 110, 110, 6)      0         \n",
      " ePooling2D)                                                     \n",
      "                                                                 \n",
      " conv2d_5 (Conv2D)           (None, 106, 106, 16)      2416      \n",
      "                                                                 \n",
      " average_pooling2d_5 (Averag  (None, 53, 53, 16)       0         \n",
      " ePooling2D)                                                     \n",
      "                                                                 \n",
      " flatten_2 (Flatten)         (None, 44944)             0         \n",
      "                                                                 \n",
      " dense_6 (Dense)             (None, 120)               5393400   \n",
      "                                                                 \n",
      " dense_7 (Dense)             (None, 84)                10164     \n",
      "                                                                 \n",
      " dense_8 (Dense)             (None, 21)                1785      \n",
      "                                                                 \n",
      "=================================================================\n",
      "Total params: 5,408,221\n",
      "Trainable params: 5,408,221\n",
      "Non-trainable params: 0\n",
      "_________________________________________________________________\n"
     ]
    }
   ],
   "source": [
    "model.summary()"
   ]
  },
  {
   "cell_type": "code",
   "execution_count": 17,
   "metadata": {},
   "outputs": [],
   "source": [
    "# history = model.history"
   ]
  },
  {
   "cell_type": "code",
   "execution_count": 19,
   "metadata": {},
   "outputs": [
    {
     "data": {
      "image/png": "[encoded data removed]",
      "text/plain": [
       "<Figure size 640x480 with 1 Axes>"
      ]
     },
     "metadata": {},
     "output_type": "display_data"
    },
    {
     "data": {
      "image/png": "[encoded data removed]",
      "text/plain": [
       "<Figure size 640x480 with 1 Axes>"
      ]
     },
     "metadata": {},
     "output_type": "display_data"
    }
   ],
   "source": [
    "# Plot training and validation accuracy\n",
    "plt.plot(history.history['accuracy'], label='Training Accuracy')\n",
    "plt.plot(history.history['val_accuracy'], label='Validation Accuracy')\n",
    "plt.title('Training and Validation Accuracy')\n",
    "plt.xlabel('Epochs')\n",
    "plt.ylabel('Accuracy')\n",
    "plt.legend()\n",
    "plt.show()\n",
    "\n",
    "# Plot training and validation loss\n",
    "plt.plot(history.history['loss'], label='Training Loss')\n",
    "plt.plot(history.history['val_loss'], label='Validation Loss')\n",
    "plt.title('Training and Validation Loss')\n",
    "plt.xlabel('Epochs')\n",
    "plt.ylabel('Loss')\n",
    "plt.legend()\n",
    "plt.show()"
   ]
  },
  {
   "cell_type": "code",
   "execution_count": null,
   "metadata": {},
   "outputs": [],
   "source": [
    "# # Plot training and validation accuracy\n",
    "# plt.plot(history.history['accuracy'], label='Training Accuracy')\n",
    "# plt.plot(history.history['val_accuracy'], label='Validation Accuracy')\n",
    "# plt.title('Training and Validation Accuracy')\n",
    "# plt.xlabel('Epochs')\n",
    "# plt.ylabel('Accuracy')\n",
    "# plt.legend()\n",
    "# plt.show()\n",
    "\n",
    "# # Plot training and validation loss\n",
    "# plt.plot(history.history['loss'], label='Training Loss')\n",
    "# plt.plot(history.history['val_loss'], label='Validation Loss')\n",
    "# plt.title('Training and Validation Loss')\n",
    "# plt.xlabel('Epochs')\n",
    "# plt.ylabel('Loss')\n",
    "# plt.legend()\n",
    "# plt.show()\n",
    "\n",
    "# Plot training and validation accuracy\n",
    "# plt.plot(model.model['accuracy'], label='Training Accuracy')\n",
    "# plt.plot(model.model['val_accuracy'], label='Validation Accuracy')\n",
    "# plt.title('Training and Validation Accuracy')\n",
    "# plt.xlabel('Epochs')\n",
    "# plt.ylabel('Accuracy')\n",
    "# plt.legend()\n",
    "# plt.show()\n",
    "\n",
    "# # Plot training and validation loss\n",
    "# plt.plot(history.history['loss'], label='Training Loss')\n",
    "# plt.plot(history.history['val_loss'], label='Validation Loss')\n",
    "# plt.title('Training and Validation Loss')\n",
    "# plt.xlabel('Epochs')\n",
    "# plt.ylabel('Loss')\n",
    "# plt.legend()\n",
    "# plt.show()"
   ]
  }
 ],
 "metadata": {
  "kernelspec": {
   "display_name": "base",
   "language": "python",
   "name": "python3"
  },
  "language_info": {
   "codemirror_mode": {
    "name": "ipython",
    "version": 3
   },
   "file_extension": ".py",
   "mimetype": "text/x-python",
   "name": "python",
   "nbconvert_exporter": "python",
   "pygments_lexer": "ipython3",
   "version": "3.9.13"
  },
  "orig_nbformat": 4
 },
 "nbformat": 4,
 "nbformat_minor": 2
}
