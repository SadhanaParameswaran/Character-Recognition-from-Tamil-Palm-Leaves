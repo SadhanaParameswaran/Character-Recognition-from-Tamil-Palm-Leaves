{
 "cells": [
  {
   "cell_type": "code",
   "execution_count": 1,
   "metadata": {},
   "outputs": [],
   "source": [
    "import pandas as pd\n",
    "import numpy as np\n",
    "import os\n",
    "import tensorflow as tf\n",
    "import cv2\n",
    "from tensorflow import keras\n",
    "from  matplotlib import pyplot as plt\n",
    "import matplotlib.image as mpimg\n",
    "from tensorflow.keras import layers, regularizers\n",
    "from sklearn.model_selection import train_test_split"
   ]
  },
  {
   "cell_type": "code",
   "execution_count": 2,
   "metadata": {},
   "outputs": [
    {
     "data": {
      "text/plain": [
       "['aii ki matra',\n",
       " 'cha',\n",
       " 'ee ki matra',\n",
       " 'ka',\n",
       " 'la',\n",
       " 'ma',\n",
       " 'ma with oo ki matra',\n",
       " 'nna',\n",
       " 'nnna',\n",
       " 'nu',\n",
       " 'oo',\n",
       " 'pa',\n",
       " 'ra',\n",
       " 'tha',\n",
       " 'va',\n",
       " 'vee',\n",
       " 'vu',\n",
       " 'ya']"
      ]
     },
     "execution_count": 2,
     "metadata": {},
     "output_type": "execute_result"
    }
   ],
   "source": [
    "import warnings\n",
    "warnings.filterwarnings('ignore')\n",
    "\n",
    "MAIN_DIR = \"D:\\\\College_Semesters\\\\6th Semester\\\\C. Deep Learning for Signal & Image Processing\\\\Project_New\\\\Dataset\"\n",
    "SEED = 40\n",
    "os.listdir(MAIN_DIR)"
   ]
  },
  {
   "cell_type": "code",
   "execution_count": 3,
   "metadata": {},
   "outputs": [],
   "source": [
    "def load_images(folder):\n",
    "    imgs = []\n",
    "    target = 0\n",
    "    labels = []\n",
    "    for i in os.listdir(folder):\n",
    "        subdir = os.path.join(folder, i)\n",
    "        for j in os.listdir(subdir):\n",
    "            img_dir = os.path.join(subdir,j)\n",
    "            try:\n",
    "                img = cv2.imread(img_dir)\n",
    "                if img.shape[-1] == 1:\n",
    "                    # convert grayscale image to RGB\n",
    "                    img = cv2.cvtColor(img, cv2.COLOR_GRAY2RGB)\n",
    "                img = cv2.resize(img,(224,224))\n",
    "                imgs.append(img)\n",
    "                labels.append(target)\n",
    "            except:\n",
    "                continue\n",
    "        target += 1\n",
    "    \n",
    "    imgs = np.array(imgs)\n",
    "    labels = np.array(labels)\n",
    "\n",
    "    return imgs, labels"
   ]
  },
  {
   "cell_type": "code",
   "execution_count": 4,
   "metadata": {},
   "outputs": [],
   "source": [
    "data, labels = load_images(MAIN_DIR)"
   ]
  },
  {
   "cell_type": "code",
   "execution_count": 5,
   "metadata": {},
   "outputs": [
    {
     "data": {
      "text/plain": [
       "((2279, 224, 224, 3),\n",
       " array([[[0.19607843, 0.36862745, 0.52941176],\n",
       "         [0.19607843, 0.36862745, 0.52941176],\n",
       "         [0.19607843, 0.36862745, 0.52941176],\n",
       "         ...,\n",
       "         [0.19215686, 0.40392157, 0.50196078],\n",
       "         [0.19215686, 0.40392157, 0.50196078],\n",
       "         [0.19215686, 0.40392157, 0.50196078]],\n",
       " \n",
       "        [[0.19607843, 0.36862745, 0.52941176],\n",
       "         [0.19607843, 0.36862745, 0.52941176],\n",
       "         [0.19607843, 0.36862745, 0.52941176],\n",
       "         ...,\n",
       "         [0.19215686, 0.40392157, 0.50196078],\n",
       "         [0.19215686, 0.40392157, 0.50196078],\n",
       "         [0.19215686, 0.40392157, 0.50196078]],\n",
       " \n",
       "        [[0.19607843, 0.36862745, 0.52941176],\n",
       "         [0.19607843, 0.36862745, 0.52941176],\n",
       "         [0.19607843, 0.36862745, 0.52941176],\n",
       "         ...,\n",
       "         [0.19215686, 0.4       , 0.50588235],\n",
       "         [0.19215686, 0.40392157, 0.50196078],\n",
       "         [0.19215686, 0.40392157, 0.50196078]],\n",
       " \n",
       "        ...,\n",
       " \n",
       "        [[0.16470588, 0.36862745, 0.48627451],\n",
       "         [0.16470588, 0.36078431, 0.47843137],\n",
       "         [0.16470588, 0.34901961, 0.47058824],\n",
       "         ...,\n",
       "         [0.20392157, 0.39607843, 0.54509804],\n",
       "         [0.20392157, 0.39607843, 0.54509804],\n",
       "         [0.20392157, 0.39607843, 0.54509804]],\n",
       " \n",
       "        [[0.17254902, 0.37647059, 0.49411765],\n",
       "         [0.16862745, 0.36470588, 0.48235294],\n",
       "         [0.16470588, 0.34901961, 0.47058824],\n",
       "         ...,\n",
       "         [0.20392157, 0.39607843, 0.54509804],\n",
       "         [0.20392157, 0.39607843, 0.54509804],\n",
       "         [0.20392157, 0.39607843, 0.54509804]],\n",
       " \n",
       "        [[0.17647059, 0.38039216, 0.49803922],\n",
       "         [0.17254902, 0.36862745, 0.48627451],\n",
       "         [0.16862745, 0.35294118, 0.4745098 ],\n",
       "         ...,\n",
       "         [0.20392157, 0.39607843, 0.54509804],\n",
       "         [0.20392157, 0.39607843, 0.54509804],\n",
       "         [0.20392157, 0.39607843, 0.54509804]]]))"
      ]
     },
     "execution_count": 5,
     "metadata": {},
     "output_type": "execute_result"
    }
   ],
   "source": [
    "from sklearn.preprocessing import LabelEncoder\n",
    "from keras.utils import to_categorical\n",
    "\n",
    "encoder = LabelEncoder()\n",
    "encoder.fit(labels)\n",
    "y = encoder.transform(labels)\n",
    "\n",
    "y_one_hot = to_categorical(y, num_classes=18) # One-hot encode the target variable\n",
    "\n",
    "norm_data = data / 255. \n",
    "norm_data.shape, norm_data[0]"
   ]
  },
  {
   "cell_type": "code",
   "execution_count": 6,
   "metadata": {},
   "outputs": [
    {
     "name": "stdout",
     "output_type": "stream",
     "text": [
      "Train Data Shape: (1823, 224, 224, 3)\n",
      "Train Labels Shape: (1823,)\n",
      "Test Data Shape: (456, 224, 224, 3)\n",
      "Test Labels Shape: (456,)\n"
     ]
    }
   ],
   "source": [
    "# Split the data into training and test sets\n",
    "train_data, test_data, train_labels, test_labels = train_test_split(data, labels, test_size=0.2, random_state=42)\n",
    "\n",
    "# Print the shapes of the split datasets\n",
    "print(\"Train Data Shape:\", train_data.shape)\n",
    "print(\"Train Labels Shape:\", train_labels.shape)\n",
    "print(\"Test Data Shape:\", test_data.shape)\n",
    "print(\"Test Labels Shape:\", test_labels.shape)"
   ]
  },
  {
   "cell_type": "code",
   "execution_count": 7,
   "metadata": {},
   "outputs": [],
   "source": [
    "from tensorflow.keras.utils import to_categorical\n",
    "\n",
    "# Convert target labels to one-hot encoded format\n",
    "train_labels = to_categorical(train_labels, num_classes=18)\n",
    "test_labels = to_categorical(test_labels, num_classes=18)"
   ]
  },
  {
   "cell_type": "code",
   "execution_count": 8,
   "metadata": {},
   "outputs": [
    {
     "name": "stdout",
     "output_type": "stream",
     "text": [
      "Epoch 1/50\n",
      "57/57 [==============================] - 1479s 26s/step - loss: 5.0610 - accuracy: 0.0845 - val_loss: 2.8641 - val_accuracy: 0.1228\n",
      "Epoch 2/50\n",
      "57/57 [==============================] - 1441s 25s/step - loss: 2.8726 - accuracy: 0.0982 - val_loss: 2.8595 - val_accuracy: 0.1228\n",
      "Epoch 3/50\n",
      "57/57 [==============================] - 1441s 25s/step - loss: 2.8712 - accuracy: 0.0982 - val_loss: 2.8641 - val_accuracy: 0.1228\n",
      "Epoch 4/50\n",
      "57/57 [==============================] - 1431s 25s/step - loss: 2.8722 - accuracy: 0.0982 - val_loss: 2.8617 - val_accuracy: 0.1228\n",
      "Epoch 5/50\n",
      "57/57 [==============================] - 1433s 25s/step - loss: 2.8709 - accuracy: 0.0982 - val_loss: 2.8591 - val_accuracy: 0.1228\n",
      "Epoch 6/50\n",
      "57/57 [==============================] - 1431s 25s/step - loss: 2.8701 - accuracy: 0.0982 - val_loss: 2.8593 - val_accuracy: 0.1228\n",
      "Epoch 7/50\n",
      "57/57 [==============================] - 1427s 25s/step - loss: 2.8702 - accuracy: 0.0982 - val_loss: 2.8595 - val_accuracy: 0.1228\n",
      "Epoch 8/50\n",
      "57/57 [==============================] - 1429s 25s/step - loss: 2.8704 - accuracy: 0.0982 - val_loss: 2.8617 - val_accuracy: 0.1228\n",
      "Epoch 9/50\n",
      "57/57 [==============================] - 1425s 25s/step - loss: 2.8701 - accuracy: 0.0982 - val_loss: 2.8590 - val_accuracy: 0.1228\n",
      "Epoch 10/50\n",
      "57/57 [==============================] - 1427s 25s/step - loss: 2.8700 - accuracy: 0.0982 - val_loss: 2.8613 - val_accuracy: 0.1228\n",
      "Epoch 11/50\n",
      "57/57 [==============================] - 1429s 25s/step - loss: 2.8699 - accuracy: 0.0982 - val_loss: 2.8590 - val_accuracy: 0.1228\n",
      "Epoch 12/50\n",
      "57/57 [==============================] - 1427s 25s/step - loss: 2.8697 - accuracy: 0.0982 - val_loss: 2.8601 - val_accuracy: 0.1228\n",
      "Epoch 13/50\n",
      "57/57 [==============================] - 1429s 25s/step - loss: 2.8703 - accuracy: 0.0982 - val_loss: 2.8620 - val_accuracy: 0.1228\n",
      "Epoch 14/50\n",
      "57/57 [==============================] - 1429s 25s/step - loss: 2.8698 - accuracy: 0.0982 - val_loss: 2.8605 - val_accuracy: 0.1228\n",
      "Epoch 15/50\n",
      "57/57 [==============================] - 1432s 25s/step - loss: 2.8703 - accuracy: 0.0982 - val_loss: 2.8586 - val_accuracy: 0.1228\n",
      "Epoch 16/50\n",
      "57/57 [==============================] - 1426s 25s/step - loss: 2.8702 - accuracy: 0.0982 - val_loss: 2.8592 - val_accuracy: 0.1228\n",
      "Epoch 17/50\n",
      "57/57 [==============================] - 1422s 25s/step - loss: 2.8692 - accuracy: 0.0982 - val_loss: 2.8604 - val_accuracy: 0.1228\n",
      "Epoch 18/50\n",
      "57/57 [==============================] - 1427s 25s/step - loss: 2.8694 - accuracy: 0.0982 - val_loss: 2.8600 - val_accuracy: 0.1228\n",
      "Epoch 19/50\n",
      "57/57 [==============================] - 1476s 26s/step - loss: 2.8704 - accuracy: 0.0982 - val_loss: 2.8605 - val_accuracy: 0.1228\n",
      "Epoch 20/50\n",
      "57/57 [==============================] - 1573s 28s/step - loss: 2.8696 - accuracy: 0.0982 - val_loss: 2.8581 - val_accuracy: 0.1228\n",
      "Epoch 21/50\n",
      "57/57 [==============================] - 1590s 28s/step - loss: 2.8698 - accuracy: 0.0982 - val_loss: 2.8638 - val_accuracy: 0.1228\n",
      "Epoch 22/50\n",
      "57/57 [==============================] - 1551s 27s/step - loss: 2.8703 - accuracy: 0.0982 - val_loss: 2.8593 - val_accuracy: 0.1228\n",
      "Epoch 23/50\n",
      "57/57 [==============================] - 1557s 27s/step - loss: 2.8695 - accuracy: 0.0982 - val_loss: 2.8588 - val_accuracy: 0.1228\n",
      "Epoch 24/50\n",
      "57/57 [==============================] - 1557s 27s/step - loss: 2.8693 - accuracy: 0.0982 - val_loss: 2.8588 - val_accuracy: 0.1228\n",
      "Epoch 25/50\n",
      "57/57 [==============================] - 1552s 27s/step - loss: 2.8692 - accuracy: 0.0982 - val_loss: 2.8605 - val_accuracy: 0.1228\n",
      "Epoch 26/50\n",
      "57/57 [==============================] - 1560s 27s/step - loss: 2.8694 - accuracy: 0.0982 - val_loss: 2.8593 - val_accuracy: 0.1228\n",
      "Epoch 27/50\n",
      "57/57 [==============================] - 1566s 28s/step - loss: 2.8695 - accuracy: 0.0982 - val_loss: 2.8605 - val_accuracy: 0.1228\n",
      "Epoch 28/50\n",
      "57/57 [==============================] - 1563s 27s/step - loss: 2.8692 - accuracy: 0.0982 - val_loss: 2.8596 - val_accuracy: 0.1228\n",
      "Epoch 29/50\n",
      "57/57 [==============================] - 1555s 27s/step - loss: 2.8692 - accuracy: 0.0982 - val_loss: 2.8586 - val_accuracy: 0.1228\n",
      "Epoch 30/50\n",
      "57/57 [==============================] - 1559s 27s/step - loss: 2.8695 - accuracy: 0.0982 - val_loss: 2.8608 - val_accuracy: 0.1228\n",
      "Epoch 31/50\n",
      "57/57 [==============================] - 1549s 27s/step - loss: 2.8692 - accuracy: 0.0982 - val_loss: 2.8589 - val_accuracy: 0.1228\n",
      "Epoch 32/50\n",
      "57/57 [==============================] - 1552s 27s/step - loss: 2.8692 - accuracy: 0.0982 - val_loss: 2.8607 - val_accuracy: 0.1228\n",
      "Epoch 33/50\n",
      "57/57 [==============================] - 1593s 28s/step - loss: 2.8688 - accuracy: 0.0982 - val_loss: 2.8584 - val_accuracy: 0.1228\n",
      "Epoch 34/50\n",
      "57/57 [==============================] - 1559s 27s/step - loss: 2.8691 - accuracy: 0.0982 - val_loss: 2.8586 - val_accuracy: 0.1228\n",
      "Epoch 35/50\n",
      "57/57 [==============================] - 1559s 27s/step - loss: 2.8697 - accuracy: 0.0982 - val_loss: 2.8605 - val_accuracy: 0.1228\n",
      "Epoch 36/50\n",
      "57/57 [==============================] - 1559s 27s/step - loss: 2.8688 - accuracy: 0.0982 - val_loss: 2.8597 - val_accuracy: 0.1228\n",
      "Epoch 37/50\n",
      "57/57 [==============================] - 1551s 27s/step - loss: 2.8690 - accuracy: 0.0982 - val_loss: 2.8599 - val_accuracy: 0.1228\n",
      "Epoch 38/50\n",
      "57/57 [==============================] - 1549s 27s/step - loss: 2.8691 - accuracy: 0.0982 - val_loss: 2.8587 - val_accuracy: 0.1228\n",
      "Epoch 39/50\n",
      "57/57 [==============================] - 1553s 27s/step - loss: 2.8691 - accuracy: 0.0982 - val_loss: 2.8602 - val_accuracy: 0.1228\n",
      "Epoch 40/50\n",
      "57/57 [==============================] - 1557s 27s/step - loss: 2.8688 - accuracy: 0.0982 - val_loss: 2.8597 - val_accuracy: 0.1228\n",
      "Epoch 41/50\n",
      "57/57 [==============================] - 1557s 27s/step - loss: 2.8690 - accuracy: 0.0982 - val_loss: 2.8597 - val_accuracy: 0.1228\n",
      "Epoch 42/50\n",
      "57/57 [==============================] - 1555s 27s/step - loss: 2.8694 - accuracy: 0.0982 - val_loss: 2.8583 - val_accuracy: 0.1228\n",
      "Epoch 43/50\n",
      "57/57 [==============================] - 1549s 27s/step - loss: 2.8689 - accuracy: 0.0982 - val_loss: 2.8599 - val_accuracy: 0.1228\n",
      "Epoch 44/50\n",
      "57/57 [==============================] - 1552s 27s/step - loss: 2.8691 - accuracy: 0.0982 - val_loss: 2.8594 - val_accuracy: 0.1228\n",
      "Epoch 45/50\n",
      "57/57 [==============================] - 1554s 27s/step - loss: 2.8700 - accuracy: 0.0982 - val_loss: 2.8594 - val_accuracy: 0.1228\n",
      "Epoch 46/50\n",
      "57/57 [==============================] - 1577s 28s/step - loss: 2.8693 - accuracy: 0.0982 - val_loss: 2.8583 - val_accuracy: 0.1228\n",
      "Epoch 47/50\n",
      "57/57 [==============================] - 1546s 27s/step - loss: 2.8694 - accuracy: 0.0982 - val_loss: 2.8586 - val_accuracy: 0.1228\n",
      "Epoch 48/50\n",
      "57/57 [==============================] - 1580s 28s/step - loss: 2.8687 - accuracy: 0.0982 - val_loss: 2.8596 - val_accuracy: 0.1228\n",
      "Epoch 49/50\n",
      "57/57 [==============================] - 1599s 28s/step - loss: 2.8697 - accuracy: 0.0982 - val_loss: 2.8587 - val_accuracy: 0.1228\n",
      "Epoch 50/50\n",
      "57/57 [==============================] - 1585s 28s/step - loss: 2.8695 - accuracy: 0.0982 - val_loss: 2.8592 - val_accuracy: 0.1228\n"
     ]
    }
   ],
   "source": [
    "from tensorflow.keras.applications import VGG16\n",
    "from tensorflow.keras.models import Sequential\n",
    "from tensorflow.keras.layers import Dense, Flatten\n",
    "\n",
    "# Load the pre-trained VGG16 model\n",
    "vgg16 = VGG16(weights='imagenet', include_top=False, input_shape=norm_data.shape[1:])\n",
    "\n",
    "# Create a new model\n",
    "model = Sequential()\n",
    "\n",
    "# Add the VGG16 model as a layer\n",
    "model.add(vgg16)\n",
    "\n",
    "# Add additional layers\n",
    "model.add(Flatten())\n",
    "model.add(Dense(4096, activation='relu'))\n",
    "model.add(Dense(4096, activation='relu'))\n",
    "model.add(Dense(18, activation='softmax'))\n",
    "\n",
    "# Compile the model\n",
    "model.compile(optimizer='adam', loss='categorical_crossentropy', metrics=['accuracy'])\n",
    "\n",
    "# Fit the model\n",
    "history = model.fit(train_data, train_labels, epochs=50, batch_size=32, validation_data=(test_data, test_labels))"
   ]
  },
  {
   "cell_type": "code",
   "execution_count": 9,
   "metadata": {},
   "outputs": [],
   "source": [
    "model.save(\"VGG16_1.h5\")"
   ]
  },
  {
   "cell_type": "code",
   "execution_count": 10,
   "metadata": {},
   "outputs": [
    {
     "name": "stdout",
     "output_type": "stream",
     "text": [
      "15/15 [==============================] - 99s 6s/step\n",
      "15/15 [==============================] - 96s 6s/step - loss: 2.8592 - accuracy: 0.1228\n",
      "Test Loss: 2.859229564666748\n",
      "Accuracy: 12.280701754385964\n"
     ]
    }
   ],
   "source": [
    "# Evaluate the model on the test data\n",
    "predictions = model.predict(test_data)\n",
    "predicted_labels = np.argmax(predictions, axis=1)\n",
    "true_labels = np.argmax(test_labels, axis=1)\n",
    "\n",
    "test_loss, test_acc = model.evaluate(test_data, test_labels)\n",
    "print('Test Loss:', test_loss)\n",
    "\n",
    "accuracy = np.mean(predicted_labels == true_labels)\n",
    "print('Accuracy:', accuracy*100)"
   ]
  },
  {
   "cell_type": "code",
   "execution_count": 11,
   "metadata": {},
   "outputs": [
    {
     "name": "stdout",
     "output_type": "stream",
     "text": [
      "15/15 [==============================] - 96s 6s/step\n",
      "              precision    recall  f1-score   support\n",
      "\n",
      "           0       0.00      0.00      0.00        20\n",
      "           1       0.00      0.00      0.00        22\n",
      "           2       0.12      1.00      0.22        56\n",
      "           3       0.00      0.00      0.00        33\n",
      "           4       0.00      0.00      0.00        26\n",
      "           5       0.00      0.00      0.00        21\n",
      "           6       0.00      0.00      0.00        23\n",
      "           7       0.00      0.00      0.00        27\n",
      "           8       0.00      0.00      0.00        23\n",
      "           9       0.00      0.00      0.00        20\n",
      "          10       0.00      0.00      0.00        23\n",
      "          11       0.00      0.00      0.00        28\n",
      "          12       0.00      0.00      0.00        27\n",
      "          13       0.00      0.00      0.00        13\n",
      "          14       0.00      0.00      0.00        29\n",
      "          15       0.00      0.00      0.00        24\n",
      "          16       0.00      0.00      0.00        14\n",
      "          17       0.00      0.00      0.00        27\n",
      "\n",
      "    accuracy                           0.12       456\n",
      "   macro avg       0.01      0.06      0.01       456\n",
      "weighted avg       0.02      0.12      0.03       456\n",
      "\n"
     ]
    }
   ],
   "source": [
    "from sklearn.metrics import classification_report\n",
    "\n",
    "# Make predictions on the test data\n",
    "predictions = model.predict(test_data)\n",
    "predicted_labels = np.argmax(predictions, axis=1)\n",
    "true_labels = np.argmax(test_labels, axis=1)\n",
    "\n",
    "# Print the classification report\n",
    "print(classification_report(true_labels, predicted_labels))"
   ]
  },
  {
   "cell_type": "code",
   "execution_count": 12,
   "metadata": {},
   "outputs": [
    {
     "name": "stdout",
     "output_type": "stream",
     "text": [
      "Model: \"sequential\"\n",
      "_________________________________________________________________\n",
      " Layer (type)                Output Shape              Param #   \n",
      "=================================================================\n",
      " vgg16 (Functional)          (None, 7, 7, 512)         14714688  \n",
      "                                                                 \n",
      " flatten (Flatten)           (None, 25088)             0         \n",
      "                                                                 \n",
      " dense (Dense)               (None, 4096)              102764544 \n",
      "                                                                 \n",
      " dense_1 (Dense)             (None, 4096)              16781312  \n",
      "                                                                 \n",
      " dense_2 (Dense)             (None, 18)                73746     \n",
      "                                                                 \n",
      "=================================================================\n",
      "Total params: 134,334,290\n",
      "Trainable params: 134,334,290\n",
      "Non-trainable params: 0\n",
      "_________________________________________________________________\n"
     ]
    }
   ],
   "source": [
    "model.summary()"
   ]
  },
  {
   "cell_type": "code",
   "execution_count": 13,
   "metadata": {},
   "outputs": [
    {
     "data": {
      "image/png": "[encoded data removed]",
      "text/plain": [
       "<Figure size 640x480 with 1 Axes>"
      ]
     },
     "metadata": {},
     "output_type": "display_data"
    },
    {
     "data": {
      "image/png": "[encoded data removed]",
      "text/plain": [
       "<Figure size 640x480 with 1 Axes>"
      ]
     },
     "metadata": {},
     "output_type": "display_data"
    }
   ],
   "source": [
    "# Plot training and validation accuracy\n",
    "plt.plot(history.history['accuracy'], label='Training Accuracy')\n",
    "plt.plot(history.history['val_accuracy'], label='Validation Accuracy')\n",
    "plt.title('Training and Validation Accuracy')\n",
    "plt.xlabel('Epochs')\n",
    "plt.ylabel('Accuracy')\n",
    "plt.legend()\n",
    "plt.show()\n",
    "\n",
    "# Plot training and validation loss\n",
    "plt.plot(history.history['loss'], label='Training Loss')\n",
    "plt.plot(history.history['val_loss'], label='Validation Loss')\n",
    "plt.title('Training and Validation Loss')\n",
    "plt.xlabel('Epochs')\n",
    "plt.ylabel('Loss')\n",
    "plt.legend()\n",
    "plt.show()"
   ]
  }
 ],
 "metadata": {
  "kernelspec": {
   "display_name": "base",
   "language": "python",
   "name": "python3"
  },
  "language_info": {
   "codemirror_mode": {
    "name": "ipython",
    "version": 3
   },
   "file_extension": ".py",
   "mimetype": "text/x-python",
   "name": "python",
   "nbconvert_exporter": "python",
   "pygments_lexer": "ipython3",
   "version": "3.9.13"
  },
  "orig_nbformat": 4
 },
 "nbformat": 4,
 "nbformat_minor": 2
}
