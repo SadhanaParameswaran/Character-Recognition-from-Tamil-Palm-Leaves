{
 "cells": [
  {
   "attachments": {},
   "cell_type": "markdown",
   "metadata": {},
   "source": [
    "Importing"
   ]
  },
  {
   "cell_type": "code",
   "execution_count": 1,
   "metadata": {},
   "outputs": [],
   "source": [
    "import pandas as pd\n",
    "import numpy as np\n",
    "import os\n",
    "import tensorflow as tf\n",
    "import cv2\n",
    "from tensorflow import keras\n",
    "from  matplotlib import pyplot as plt\n",
    "import matplotlib.image as mpimg\n",
    "from tensorflow.keras import layers, regularizers\n",
    "from sklearn.metrics import classification_report\n",
    "from sklearn.model_selection import train_test_split"
   ]
  },
  {
   "cell_type": "code",
   "execution_count": 2,
   "metadata": {},
   "outputs": [
    {
     "data": {
      "text/plain": [
       "['aii ki matra',\n",
       " 'cha',\n",
       " 'ee ki matra',\n",
       " 'ka',\n",
       " 'la',\n",
       " 'ma',\n",
       " 'ma with oo ki matra',\n",
       " 'nna',\n",
       " 'nnna',\n",
       " 'nu',\n",
       " 'nuu',\n",
       " 'oo',\n",
       " 'pa',\n",
       " 'ra',\n",
       " 't',\n",
       " 'tha',\n",
       " 'va',\n",
       " 'vee',\n",
       " 'vu',\n",
       " 'y',\n",
       " 'ya']"
      ]
     },
     "execution_count": 2,
     "metadata": {},
     "output_type": "execute_result"
    }
   ],
   "source": [
    "import warnings\n",
    "warnings.filterwarnings('ignore')\n",
    "\n",
    "MAIN_DIR = \"D:\\\\College_Semesters\\\\6th Semester\\\\C. Deep Learning for Signal & Image Processing\\\\Project_New\\\\Dataset\"\n",
    "SEED = 40\n",
    "os.listdir(MAIN_DIR)"
   ]
  },
  {
   "cell_type": "code",
   "execution_count": 3,
   "metadata": {},
   "outputs": [],
   "source": [
    "def load_images(folder):\n",
    "    imgs = []\n",
    "    target = 0\n",
    "    labels = []\n",
    "    for i in os.listdir(folder):\n",
    "        subdir = os.path.join(folder, i)\n",
    "        for j in os.listdir(subdir):\n",
    "            img_dir = os.path.join(subdir,j)\n",
    "            try:\n",
    "                img = cv2.imread(img_dir)\n",
    "                if img.shape[-1] == 1:\n",
    "                    # convert grayscale image to RGB\n",
    "                    img = cv2.cvtColor(img, cv2.COLOR_GRAY2RGB)\n",
    "                img = cv2.resize(img,(224,224))\n",
    "                imgs.append(img)\n",
    "                labels.append(target)\n",
    "            except:\n",
    "                continue\n",
    "        target += 1\n",
    "    \n",
    "    imgs = np.array(imgs)\n",
    "    labels = np.array(labels)\n",
    "\n",
    "    return imgs, labels"
   ]
  },
  {
   "cell_type": "code",
   "execution_count": 4,
   "metadata": {},
   "outputs": [],
   "source": [
    "data, labels = load_images(MAIN_DIR)"
   ]
  },
  {
   "cell_type": "code",
   "execution_count": 5,
   "metadata": {},
   "outputs": [
    {
     "data": {
      "text/plain": [
       "(2698,)"
      ]
     },
     "execution_count": 5,
     "metadata": {},
     "output_type": "execute_result"
    }
   ],
   "source": [
    "labels.shape"
   ]
  },
  {
   "cell_type": "code",
   "execution_count": 7,
   "metadata": {},
   "outputs": [
    {
     "data": {
      "text/plain": [
       "((2698, 224, 224, 3),\n",
       " array([[[0.19607843, 0.36862745, 0.52941176],\n",
       "         [0.19607843, 0.36862745, 0.52941176],\n",
       "         [0.19607843, 0.36862745, 0.52941176],\n",
       "         ...,\n",
       "         [0.19215686, 0.40392157, 0.50196078],\n",
       "         [0.19215686, 0.40392157, 0.50196078],\n",
       "         [0.19215686, 0.40392157, 0.50196078]],\n",
       " \n",
       "        [[0.19607843, 0.36862745, 0.52941176],\n",
       "         [0.19607843, 0.36862745, 0.52941176],\n",
       "         [0.19607843, 0.36862745, 0.52941176],\n",
       "         ...,\n",
       "         [0.19215686, 0.40392157, 0.50196078],\n",
       "         [0.19215686, 0.40392157, 0.50196078],\n",
       "         [0.19215686, 0.40392157, 0.50196078]],\n",
       " \n",
       "        [[0.19607843, 0.36862745, 0.52941176],\n",
       "         [0.19607843, 0.36862745, 0.52941176],\n",
       "         [0.19607843, 0.36862745, 0.52941176],\n",
       "         ...,\n",
       "         [0.19215686, 0.4       , 0.50588235],\n",
       "         [0.19215686, 0.40392157, 0.50196078],\n",
       "         [0.19215686, 0.40392157, 0.50196078]],\n",
       " \n",
       "        ...,\n",
       " \n",
       "        [[0.16470588, 0.36862745, 0.48627451],\n",
       "         [0.16470588, 0.36078431, 0.47843137],\n",
       "         [0.16470588, 0.34901961, 0.47058824],\n",
       "         ...,\n",
       "         [0.20392157, 0.39607843, 0.54509804],\n",
       "         [0.20392157, 0.39607843, 0.54509804],\n",
       "         [0.20392157, 0.39607843, 0.54509804]],\n",
       " \n",
       "        [[0.17254902, 0.37647059, 0.49411765],\n",
       "         [0.16862745, 0.36470588, 0.48235294],\n",
       "         [0.16470588, 0.34901961, 0.47058824],\n",
       "         ...,\n",
       "         [0.20392157, 0.39607843, 0.54509804],\n",
       "         [0.20392157, 0.39607843, 0.54509804],\n",
       "         [0.20392157, 0.39607843, 0.54509804]],\n",
       " \n",
       "        [[0.17647059, 0.38039216, 0.49803922],\n",
       "         [0.17254902, 0.36862745, 0.48627451],\n",
       "         [0.16862745, 0.35294118, 0.4745098 ],\n",
       "         ...,\n",
       "         [0.20392157, 0.39607843, 0.54509804],\n",
       "         [0.20392157, 0.39607843, 0.54509804],\n",
       "         [0.20392157, 0.39607843, 0.54509804]]]))"
      ]
     },
     "execution_count": 7,
     "metadata": {},
     "output_type": "execute_result"
    }
   ],
   "source": [
    "from sklearn.preprocessing import LabelEncoder\n",
    "from keras.utils import to_categorical\n",
    "\n",
    "encoder = LabelEncoder()\n",
    "encoder.fit(labels)\n",
    "y = encoder.transform(labels)\n",
    "\n",
    "y_one_hot = to_categorical(y, num_classes=21) # One-hot encode the target variable\n",
    "\n",
    "norm_data = data / 255. \n",
    "norm_data.shape, norm_data[0]"
   ]
  },
  {
   "cell_type": "code",
   "execution_count": 8,
   "metadata": {},
   "outputs": [
    {
     "name": "stdout",
     "output_type": "stream",
     "text": [
      "Train Data Shape: (2158, 224, 224, 3)\n",
      "Train Labels Shape: (2158,)\n",
      "Test Data Shape: (540, 224, 224, 3)\n",
      "Test Labels Shape: (540,)\n"
     ]
    }
   ],
   "source": [
    "# Split the data into training and test sets\n",
    "train_data, test_data, train_labels, test_labels = train_test_split(data, labels, test_size=0.2, random_state=42)\n",
    "\n",
    "# Print the shapes of the split datasets\n",
    "print(\"Train Data Shape:\", train_data.shape)\n",
    "print(\"Train Labels Shape:\", train_labels.shape)\n",
    "print(\"Test Data Shape:\", test_data.shape)\n",
    "print(\"Test Labels Shape:\", test_labels.shape)"
   ]
  },
  {
   "cell_type": "code",
   "execution_count": 10,
   "metadata": {},
   "outputs": [],
   "source": [
    "from tensorflow.keras.utils import to_categorical\n",
    "\n",
    "# Convert target labels to one-hot encoded format\n",
    "train_labels = to_categorical(train_labels, num_classes=21)\n",
    "test_labels = to_categorical(test_labels, num_classes=21)"
   ]
  },
  {
   "cell_type": "code",
   "execution_count": 11,
   "metadata": {},
   "outputs": [],
   "source": [
    "# from tensorflow import keras\n",
    "\n",
    "# lambda_ = 1e-3\n",
    "# model = keras.Sequential()\n",
    "\n",
    "# # Add the layers\n",
    "# model.add(keras.layers.Conv2D(32, (3, 3), activation='relu', input_shape=norm_data.shape[1:]))\n",
    "# model.add(keras.layers.BatchNormalization())\n",
    "# model.add(keras.layers.MaxPooling2D((2, 2)))\n",
    "# model.add(keras.layers.Conv2D(64, (3, 3), activation='relu'))\n",
    "# model.add(keras.layers.BatchNormalization())\n",
    "# model.add(keras.layers.MaxPooling2D((2, 2)))\n",
    "# model.add(keras.layers.Conv2D(128, (3, 3), activation='relu'))\n",
    "# model.add(keras.layers.BatchNormalization())\n",
    "# model.add(keras.layers.MaxPooling2D((2, 2)))\n",
    "# model.add(keras.layers.Flatten())\n",
    "# model.add(keras.layers.Dense(512, activation='relu'))\n",
    "# model.add(keras.layers.Dropout(0.5))\n",
    "# model.add(keras.layers.Dense(256, activation='relu'))\n",
    "# model.add(keras.layers.Dropout(0.5))\n",
    "# model.add(keras.layers.Dense(128, activation='relu'))\n",
    "# model.add(keras.layers.Dropout(0.5))\n",
    "# model.add(keras.layers.Dense(64, activation='relu'))\n",
    "# model.add(keras.layers.Dropout(0.5))\n",
    "# model.add(keras.layers.Dense(18, activation='softmax'))\n",
    "\n",
    "\n",
    "# # Compile the model\n",
    "# model.compile(optimizer=tf.keras.optimizers.Adam(learning_rate=0.0001),\n",
    "#               loss='categorical_crossentropy',\n",
    "#               metrics=['accuracy'])\n",
    "\n",
    "# # Fit the model\n",
    "# history = model.fit(train_data, train_labels, epochs=50, batch_size=32, validation_data=(test_data, test_labels))"
   ]
  },
  {
   "cell_type": "code",
   "execution_count": 12,
   "metadata": {},
   "outputs": [
    {
     "name": "stdout",
     "output_type": "stream",
     "text": [
      "Epoch 1/50\n",
      "68/68 [==============================] - 124s 2s/step - loss: 8.5839 - accuracy: 0.0612 - val_loss: 4.7887 - val_accuracy: 0.0685\n",
      "Epoch 2/50\n",
      "68/68 [==============================] - 109s 2s/step - loss: 5.4018 - accuracy: 0.0626 - val_loss: 4.7138 - val_accuracy: 0.1963\n",
      "Epoch 3/50\n",
      "68/68 [==============================] - 109s 2s/step - loss: 4.9835 - accuracy: 0.0774 - val_loss: 4.6945 - val_accuracy: 0.2444\n",
      "Epoch 4/50\n",
      "68/68 [==============================] - 111s 2s/step - loss: 4.8889 - accuracy: 0.0853 - val_loss: 4.6837 - val_accuracy: 0.2815\n",
      "Epoch 5/50\n",
      "68/68 [==============================] - 110s 2s/step - loss: 4.8716 - accuracy: 0.0765 - val_loss: 4.7052 - val_accuracy: 0.1889\n",
      "Epoch 6/50\n",
      "68/68 [==============================] - 108s 2s/step - loss: 4.8128 - accuracy: 0.0774 - val_loss: 4.6636 - val_accuracy: 0.2370\n",
      "Epoch 7/50\n",
      "68/68 [==============================] - 108s 2s/step - loss: 4.8029 - accuracy: 0.0876 - val_loss: 4.7133 - val_accuracy: 0.1741\n",
      "Epoch 8/50\n",
      "68/68 [==============================] - 110s 2s/step - loss: 4.7340 - accuracy: 0.0829 - val_loss: 4.5681 - val_accuracy: 0.1963\n",
      "Epoch 9/50\n",
      "68/68 [==============================] - 109s 2s/step - loss: 4.7136 - accuracy: 0.0806 - val_loss: 4.5960 - val_accuracy: 0.1907\n",
      "Epoch 10/50\n",
      "68/68 [==============================] - 108s 2s/step - loss: 4.6433 - accuracy: 0.0885 - val_loss: 4.4281 - val_accuracy: 0.2352\n",
      "Epoch 11/50\n",
      "68/68 [==============================] - 106s 2s/step - loss: 4.6005 - accuracy: 0.1024 - val_loss: 4.4546 - val_accuracy: 0.2296\n",
      "Epoch 12/50\n",
      "68/68 [==============================] - 107s 2s/step - loss: 4.5792 - accuracy: 0.1047 - val_loss: 4.3347 - val_accuracy: 0.2574\n",
      "Epoch 13/50\n",
      "68/68 [==============================] - 110s 2s/step - loss: 4.5069 - accuracy: 0.1223 - val_loss: 4.2886 - val_accuracy: 0.2537\n",
      "Epoch 14/50\n",
      "68/68 [==============================] - 114s 2s/step - loss: 4.4589 - accuracy: 0.1316 - val_loss: 4.2712 - val_accuracy: 0.1981\n",
      "Epoch 15/50\n",
      "68/68 [==============================] - 113s 2s/step - loss: 4.4442 - accuracy: 0.1284 - val_loss: 4.3329 - val_accuracy: 0.2241\n",
      "Epoch 16/50\n",
      "68/68 [==============================] - 114s 2s/step - loss: 4.3580 - accuracy: 0.1478 - val_loss: 4.2342 - val_accuracy: 0.2333\n",
      "Epoch 17/50\n",
      "68/68 [==============================] - 128s 2s/step - loss: 4.3703 - accuracy: 0.1455 - val_loss: 4.2161 - val_accuracy: 0.2333\n",
      "Epoch 18/50\n",
      "68/68 [==============================] - 123s 2s/step - loss: 4.3497 - accuracy: 0.1571 - val_loss: 4.1422 - val_accuracy: 0.2500\n",
      "Epoch 19/50\n",
      "68/68 [==============================] - 123s 2s/step - loss: 4.2893 - accuracy: 0.1738 - val_loss: 4.0916 - val_accuracy: 0.3093\n",
      "Epoch 20/50\n",
      "68/68 [==============================] - 114s 2s/step - loss: 4.2759 - accuracy: 0.1840 - val_loss: 4.0824 - val_accuracy: 0.3019\n",
      "Epoch 21/50\n",
      "68/68 [==============================] - 111s 2s/step - loss: 4.2401 - accuracy: 0.1928 - val_loss: 4.0629 - val_accuracy: 0.2833\n",
      "Epoch 22/50\n",
      "68/68 [==============================] - 109s 2s/step - loss: 4.1540 - accuracy: 0.2025 - val_loss: 4.0047 - val_accuracy: 0.3444\n",
      "Epoch 23/50\n",
      "68/68 [==============================] - 112s 2s/step - loss: 4.1413 - accuracy: 0.1951 - val_loss: 3.9563 - val_accuracy: 0.3167\n",
      "Epoch 24/50\n",
      "68/68 [==============================] - 112s 2s/step - loss: 4.0889 - accuracy: 0.2034 - val_loss: 3.9142 - val_accuracy: 0.3278\n",
      "Epoch 25/50\n",
      "68/68 [==============================] - 113s 2s/step - loss: 4.0850 - accuracy: 0.2201 - val_loss: 3.8372 - val_accuracy: 0.3222\n",
      "Epoch 26/50\n",
      "68/68 [==============================] - 115s 2s/step - loss: 4.0215 - accuracy: 0.2257 - val_loss: 3.8379 - val_accuracy: 0.3037\n",
      "Epoch 27/50\n",
      "68/68 [==============================] - 116s 2s/step - loss: 3.9956 - accuracy: 0.2136 - val_loss: 3.8438 - val_accuracy: 0.3315\n",
      "Epoch 28/50\n",
      "68/68 [==============================] - 135s 2s/step - loss: 3.9538 - accuracy: 0.2303 - val_loss: 3.7186 - val_accuracy: 0.3500\n",
      "Epoch 29/50\n",
      "68/68 [==============================] - 128s 2s/step - loss: 3.9415 - accuracy: 0.2303 - val_loss: 3.7702 - val_accuracy: 0.3315\n",
      "Epoch 30/50\n",
      "68/68 [==============================] - 130s 2s/step - loss: 3.8837 - accuracy: 0.2419 - val_loss: 3.6365 - val_accuracy: 0.3593\n",
      "Epoch 31/50\n",
      "68/68 [==============================] - 135s 2s/step - loss: 3.8804 - accuracy: 0.2428 - val_loss: 3.6327 - val_accuracy: 0.3481\n",
      "Epoch 32/50\n",
      "68/68 [==============================] - 130s 2s/step - loss: 3.8400 - accuracy: 0.2349 - val_loss: 3.6266 - val_accuracy: 0.3722\n",
      "Epoch 33/50\n",
      "68/68 [==============================] - 120s 2s/step - loss: 3.8147 - accuracy: 0.2479 - val_loss: 3.6098 - val_accuracy: 0.3537\n",
      "Epoch 34/50\n",
      "68/68 [==============================] - 116s 2s/step - loss: 3.7910 - accuracy: 0.2359 - val_loss: 3.5215 - val_accuracy: 0.3500\n",
      "Epoch 35/50\n",
      "68/68 [==============================] - 115s 2s/step - loss: 3.7560 - accuracy: 0.2544 - val_loss: 3.4881 - val_accuracy: 0.3722\n",
      "Epoch 36/50\n",
      "68/68 [==============================] - 116s 2s/step - loss: 3.7211 - accuracy: 0.2623 - val_loss: 3.5154 - val_accuracy: 0.3574\n",
      "Epoch 37/50\n",
      "68/68 [==============================] - 114s 2s/step - loss: 3.6884 - accuracy: 0.2674 - val_loss: 3.4615 - val_accuracy: 0.3630\n",
      "Epoch 38/50\n",
      "68/68 [==============================] - 118s 2s/step - loss: 3.6615 - accuracy: 0.2734 - val_loss: 3.5052 - val_accuracy: 0.3519\n",
      "Epoch 39/50\n",
      "68/68 [==============================] - 120s 2s/step - loss: 3.6254 - accuracy: 0.2757 - val_loss: 3.4348 - val_accuracy: 0.3593\n",
      "Epoch 40/50\n",
      "68/68 [==============================] - 115s 2s/step - loss: 3.5794 - accuracy: 0.2901 - val_loss: 3.4733 - val_accuracy: 0.3444\n",
      "Epoch 41/50\n",
      "68/68 [==============================] - 115s 2s/step - loss: 3.5643 - accuracy: 0.2780 - val_loss: 3.3888 - val_accuracy: 0.3444\n",
      "Epoch 42/50\n",
      "68/68 [==============================] - 118s 2s/step - loss: 3.4953 - accuracy: 0.2938 - val_loss: 3.3498 - val_accuracy: 0.3685\n",
      "Epoch 43/50\n",
      "68/68 [==============================] - 107s 2s/step - loss: 3.5127 - accuracy: 0.2808 - val_loss: 3.3152 - val_accuracy: 0.3630\n",
      "Epoch 44/50\n",
      "68/68 [==============================] - 116s 2s/step - loss: 3.4812 - accuracy: 0.2919 - val_loss: 3.2926 - val_accuracy: 0.3574\n",
      "Epoch 45/50\n",
      "68/68 [==============================] - 115s 2s/step - loss: 3.4547 - accuracy: 0.2905 - val_loss: 3.2828 - val_accuracy: 0.3537\n",
      "Epoch 46/50\n",
      "68/68 [==============================] - 116s 2s/step - loss: 3.4356 - accuracy: 0.2882 - val_loss: 3.2640 - val_accuracy: 0.3352\n",
      "Epoch 47/50\n",
      "68/68 [==============================] - 116s 2s/step - loss: 3.4345 - accuracy: 0.2794 - val_loss: 3.2502 - val_accuracy: 0.3593\n",
      "Epoch 48/50\n",
      "68/68 [==============================] - 116s 2s/step - loss: 3.4218 - accuracy: 0.2938 - val_loss: 3.2133 - val_accuracy: 0.3574\n",
      "Epoch 49/50\n",
      "68/68 [==============================] - 115s 2s/step - loss: 3.3420 - accuracy: 0.3063 - val_loss: 3.2263 - val_accuracy: 0.3611\n",
      "Epoch 50/50\n",
      "68/68 [==============================] - 115s 2s/step - loss: 3.3802 - accuracy: 0.2892 - val_loss: 3.1800 - val_accuracy: 0.3574\n"
     ]
    }
   ],
   "source": [
    "from tensorflow import keras\n",
    "\n",
    "lambda_ = 1e-3\n",
    "\n",
    "model = keras.Sequential()\n",
    "\n",
    "# Add the layers\n",
    "model.add(keras.layers.Conv2D(32, (3, 3), activation='relu', kernel_regularizer=keras.regularizers.l2(lambda_), input_shape=norm_data.shape[1:]))\n",
    "model.add(keras.layers.BatchNormalization())\n",
    "model.add(keras.layers.MaxPooling2D((2, 2)))\n",
    "model.add(keras.layers.Conv2D(64, (3, 3), activation='relu', kernel_regularizer=keras.regularizers.l2(lambda_)))\n",
    "model.add(keras.layers.BatchNormalization())\n",
    "model.add(keras.layers.MaxPooling2D((2, 2)))\n",
    "model.add(keras.layers.Conv2D(128, (3, 3), activation='relu', kernel_regularizer=keras.regularizers.l2(lambda_)))\n",
    "model.add(keras.layers.BatchNormalization())\n",
    "model.add(keras.layers.MaxPooling2D((2, 2)))\n",
    "model.add(keras.layers.Flatten())\n",
    "model.add(keras.layers.Dense(512, activation='relu', kernel_regularizer=keras.regularizers.l2(lambda_)))\n",
    "model.add(keras.layers.Dropout(0.5))\n",
    "model.add(keras.layers.Dense(256, activation='relu', kernel_regularizer=keras.regularizers.l2(lambda_)))\n",
    "model.add(keras.layers.Dropout(0.5))\n",
    "model.add(keras.layers.Dense(128, activation='relu', kernel_regularizer=keras.regularizers.l2(lambda_)))\n",
    "model.add(keras.layers.Dropout(0.5))\n",
    "model.add(keras.layers.Dense(64, activation='relu', kernel_regularizer=keras.regularizers.l2(lambda_)))\n",
    "model.add(keras.layers.Dropout(0.5))\n",
    "model.add(keras.layers.Dense(21, activation='softmax'))\n",
    "\n",
    "# Compile the model\n",
    "model.compile(optimizer=tf.keras.optimizers.Adam(learning_rate=0.0001),\n",
    "              loss='categorical_crossentropy',\n",
    "              metrics=['accuracy'])\n",
    "\n",
    "# Fit the model\n",
    "history = model.fit(train_data, train_labels, epochs=50, batch_size=32, validation_data=(test_data, test_labels))"
   ]
  },
  {
   "cell_type": "code",
   "execution_count": 13,
   "metadata": {},
   "outputs": [],
   "source": [
    "model.save(\"Custom_2.h5\")"
   ]
  },
  {
   "cell_type": "code",
   "execution_count": 14,
   "metadata": {},
   "outputs": [
    {
     "name": "stdout",
     "output_type": "stream",
     "text": [
      "17/17 [==============================] - 6s 335ms/step\n",
      "17/17 [==============================] - 6s 349ms/step - loss: 3.1800 - accuracy: 0.3574\n",
      "Test Loss: 3.1800332069396973\n",
      "Accuracy: 35.74074074074074\n"
     ]
    }
   ],
   "source": [
    "# Evaluate the model on the test data\n",
    "predictions = model.predict(test_data)\n",
    "predicted_labels = np.argmax(predictions, axis=1)\n",
    "true_labels = np.argmax(test_labels, axis=1)\n",
    "\n",
    "test_loss, test_acc = model.evaluate(test_data, test_labels)\n",
    "print('Test Loss:', test_loss)\n",
    "\n",
    "accuracy = np.mean(predicted_labels == true_labels)\n",
    "print('Accuracy:', accuracy*100)"
   ]
  },
  {
   "cell_type": "code",
   "execution_count": 15,
   "metadata": {},
   "outputs": [
    {
     "name": "stdout",
     "output_type": "stream",
     "text": [
      "17/17 [==============================] - 5s 317ms/step\n",
      "              precision    recall  f1-score   support\n",
      "\n",
      "           0       0.89      0.89      0.89        18\n",
      "           1       0.70      0.91      0.79        23\n",
      "           2       1.00      0.83      0.91        52\n",
      "           3       0.70      0.86      0.77        35\n",
      "           4       0.00      0.00      0.00        21\n",
      "           5       0.00      0.00      0.00        33\n",
      "           6       0.00      0.00      0.00        32\n",
      "           7       0.00      0.00      0.00        28\n",
      "           8       0.88      0.88      0.88        17\n",
      "           9       0.00      0.00      0.00        27\n",
      "          10       0.00      0.00      0.00        28\n",
      "          11       0.00      0.00      0.00        26\n",
      "          12       0.85      1.00      0.92        17\n",
      "          13       1.00      0.95      0.97        20\n",
      "          14       0.09      0.94      0.17        34\n",
      "          15       0.00      0.00      0.00        15\n",
      "          16       0.00      0.00      0.00        30\n",
      "          17       0.00      0.00      0.00        18\n",
      "          18       0.00      0.00      0.00        18\n",
      "          19       0.00      0.00      0.00        26\n",
      "          20       0.00      0.00      0.00        22\n",
      "\n",
      "    accuracy                           0.36       540\n",
      "   macro avg       0.29      0.35      0.30       540\n",
      "weighted avg       0.30      0.36      0.30       540\n",
      "\n"
     ]
    }
   ],
   "source": [
    "from sklearn.metrics import classification_report\n",
    "\n",
    "# Make predictions on the test data\n",
    "predictions = model.predict(test_data)\n",
    "predicted_labels = np.argmax(predictions, axis=1)\n",
    "true_labels = np.argmax(test_labels, axis=1)\n",
    "\n",
    "# Print the classification report\n",
    "print(classification_report(true_labels, predicted_labels))"
   ]
  },
  {
   "cell_type": "code",
   "execution_count": 16,
   "metadata": {},
   "outputs": [
    {
     "name": "stdout",
     "output_type": "stream",
     "text": [
      "Model: \"sequential\"\n",
      "_________________________________________________________________\n",
      " Layer (type)                Output Shape              Param #   \n",
      "=================================================================\n",
      " conv2d (Conv2D)             (None, 222, 222, 32)      896       \n",
      "                                                                 \n",
      " batch_normalization (BatchN  (None, 222, 222, 32)     128       \n",
      " ormalization)                                                   \n",
      "                                                                 \n",
      " max_pooling2d (MaxPooling2D  (None, 111, 111, 32)     0         \n",
      " )                                                               \n",
      "                                                                 \n",
      " conv2d_1 (Conv2D)           (None, 109, 109, 64)      18496     \n",
      "                                                                 \n",
      " batch_normalization_1 (Batc  (None, 109, 109, 64)     256       \n",
      " hNormalization)                                                 \n",
      "                                                                 \n",
      " max_pooling2d_1 (MaxPooling  (None, 54, 54, 64)       0         \n",
      " 2D)                                                             \n",
      "                                                                 \n",
      " conv2d_2 (Conv2D)           (None, 52, 52, 128)       73856     \n",
      "                                                                 \n",
      " batch_normalization_2 (Batc  (None, 52, 52, 128)      512       \n",
      " hNormalization)                                                 \n",
      "                                                                 \n",
      " max_pooling2d_2 (MaxPooling  (None, 26, 26, 128)      0         \n",
      " 2D)                                                             \n",
      "                                                                 \n",
      " flatten (Flatten)           (None, 86528)             0         \n",
      "                                                                 \n",
      " dense (Dense)               (None, 512)               44302848  \n",
      "                                                                 \n",
      " dropout (Dropout)           (None, 512)               0         \n",
      "                                                                 \n",
      " dense_1 (Dense)             (None, 256)               131328    \n",
      "                                                                 \n",
      " dropout_1 (Dropout)         (None, 256)               0         \n",
      "                                                                 \n",
      " dense_2 (Dense)             (None, 128)               32896     \n",
      "                                                                 \n",
      " dropout_2 (Dropout)         (None, 128)               0         \n",
      "                                                                 \n",
      " dense_3 (Dense)             (None, 64)                8256      \n",
      "                                                                 \n",
      " dropout_3 (Dropout)         (None, 64)                0         \n",
      "                                                                 \n",
      " dense_4 (Dense)             (None, 21)                1365      \n",
      "                                                                 \n",
      "=================================================================\n",
      "Total params: 44,570,837\n",
      "Trainable params: 44,570,389\n",
      "Non-trainable params: 448\n",
      "_________________________________________________________________\n"
     ]
    }
   ],
   "source": [
    "model.summary()"
   ]
  },
  {
   "cell_type": "code",
   "execution_count": 17,
   "metadata": {},
   "outputs": [
    {
     "data": {
      "image/png": "[encoded data removed]",
      "text/plain": [
       "<Figure size 640x480 with 1 Axes>"
      ]
     },
     "metadata": {},
     "output_type": "display_data"
    },
    {
     "data": {
      "image/png": "[encoded data removed]",
      "text/plain": [
       "<Figure size 640x480 with 1 Axes>"
      ]
     },
     "metadata": {},
     "output_type": "display_data"
    }
   ],
   "source": [
    "# Plot training and validation accuracy\n",
    "plt.plot(history.history['accuracy'], label='Training Accuracy')\n",
    "plt.plot(history.history['val_accuracy'], label='Validation Accuracy')\n",
    "plt.title('Training and Validation Accuracy')\n",
    "plt.xlabel('Epochs')\n",
    "plt.ylabel('Accuracy')\n",
    "plt.legend()\n",
    "plt.show()\n",
    "\n",
    "# Plot training and validation loss\n",
    "plt.plot(history.history['loss'], label='Training Loss')\n",
    "plt.plot(history.history['val_loss'], label='Validation Loss')\n",
    "plt.title('Training and Validation Loss')\n",
    "plt.xlabel('Epochs')\n",
    "plt.ylabel('Loss')\n",
    "plt.legend()\n",
    "plt.show()"
   ]
  }
 ],
 "metadata": {
  "kernelspec": {
   "display_name": "base",
   "language": "python",
   "name": "python3"
  },
  "language_info": {
   "codemirror_mode": {
    "name": "ipython",
    "version": 3
   },
   "file_extension": ".py",
   "mimetype": "text/x-python",
   "name": "python",
   "nbconvert_exporter": "python",
   "pygments_lexer": "ipython3",
   "version": "3.9.13"
  },
  "orig_nbformat": 4
 },
 "nbformat": 4,
 "nbformat_minor": 2
}
