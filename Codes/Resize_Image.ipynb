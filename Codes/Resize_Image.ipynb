{
 "cells": [
  {
   "cell_type": "code",
   "execution_count": 3,
   "metadata": {},
   "outputs": [],
   "source": [
    "import os\n",
    "from PIL import Image\n",
    "\n",
    "# set the input and output folder paths\n",
    "input_folder = 'D:\\\\AMRITA COLLEGE\\\\SEM 6\\\\Reinforcement Learning\\\\Dataset\\\\archive\\\\yes'\n",
    "output_folder = 'D:\\\\AMRITA COLLEGE\\\\SEM 6\\\\Reinforcement Learning\\\\Dataset\\\\Resized Dataset\\\\yes'\n",
    "\n",
    "# set the desired width and height\n",
    "new_width = 256\n",
    "new_height = 256\n",
    "\n",
    "# loop through all images in the input folder\n",
    "for filename in os.listdir(input_folder):\n",
    "    # check if the file is an image\n",
    "    if filename.endswith('.jpg') or filename.endswith('.png'):\n",
    "        # open the image\n",
    "        image = Image.open(os.path.join(input_folder, filename))\n",
    "\n",
    "        # resize the image\n",
    "        new_image = image.resize((new_width, new_height))\n",
    "\n",
    "        # save the resized image to the output folder with the same filename\n",
    "        new_image.save(os.path.join(output_folder, filename))\n"
   ]
  }
 ],
 "metadata": {
  "kernelspec": {
   "display_name": "base",
   "language": "python",
   "name": "python3"
  },
  "language_info": {
   "codemirror_mode": {
    "name": "ipython",
    "version": 3
   },
   "file_extension": ".py",
   "mimetype": "text/x-python",
   "name": "python",
   "nbconvert_exporter": "python",
   "pygments_lexer": "ipython3",
   "version": "3.8.5"
  },
  "orig_nbformat": 4
 },
 "nbformat": 4,
 "nbformat_minor": 2
}
