{
 "cells": [
  {
   "cell_type": "code",
   "execution_count": 1,
   "metadata": {},
   "outputs": [],
   "source": [
    "from pdf2image import convert_from_path\n",
    "images = convert_from_path(\"D:\\\\6th Semester\\\\C. Deep Learning for Signal & Image Processing\\\\Project\\\\Codes\\\\6\\\\6.1.pdf\", 500, poppler_path=r'D:\\\\6th Semester\\\\C. Deep Learning for Signal & Image Processing\\\\Project\\\\Release-23.01.0-0\\\\poppler-23.01.0\\\\Library\\\\bin')\n",
    "for i, image in enumerate(images):\n",
    "    fname = 'image'+str(i)+'.png'\n",
    "    image.save(fname, \"PNG\")"
   ]
  }
 ],
 "metadata": {
  "kernelspec": {
   "display_name": "base",
   "language": "python",
   "name": "python3"
  },
  "language_info": {
   "codemirror_mode": {
    "name": "ipython",
    "version": 3
   },
   "file_extension": ".py",
   "mimetype": "text/x-python",
   "name": "python",
   "nbconvert_exporter": "python",
   "pygments_lexer": "ipython3",
   "version": "3.9.13"
  },
  "orig_nbformat": 4,
  "vscode": {
   "interpreter": {
    "hash": "27176cfa383b0624af9e2f363130e42274a4791b862db419ded292685b233286"
   }
  }
 },
 "nbformat": 4,
 "nbformat_minor": 2
}
